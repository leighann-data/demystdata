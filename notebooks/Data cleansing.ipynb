{
 "cells": [
  {
   "cell_type": "code",
   "execution_count": 1,
   "metadata": {},
   "outputs": [],
   "source": [
    "import pandas as pd\n",
    "\n",
    "from demyst.analytics import Analytics"
   ]
  },
  {
   "cell_type": "code",
   "execution_count": 2,
   "metadata": {},
   "outputs": [],
   "source": [
    "analytics = Analytics(key=\"63d2b304d72e0ebdd1e7f4ae45dc085a\")"
   ]
  },
  {
   "cell_type": "markdown",
   "metadata": {},
   "source": [
    "# Sub-task 1\n",
    "\n",
    "Analyze and clean the input file using Python/Pandas in a Jupyter Notebook. "
   ]
  },
  {
   "cell_type": "markdown",
   "metadata": {},
   "source": [
    "## 1. Load CSV file into memory"
   ]
  },
  {
   "cell_type": "code",
   "execution_count": 3,
   "metadata": {},
   "outputs": [],
   "source": [
    "input_data = pd.read_csv(\"../data/input_file.csv\",\n",
    "                         delimiter = ',' , \n",
    "                         encoding = 'unicode_escape')"
   ]
  },
  {
   "cell_type": "code",
   "execution_count": 4,
   "metadata": {},
   "outputs": [
    {
     "data": {
      "text/html": [
       "<div>\n",
       "<style scoped>\n",
       "    .dataframe tbody tr th:only-of-type {\n",
       "        vertical-align: middle;\n",
       "    }\n",
       "\n",
       "    .dataframe tbody tr th {\n",
       "        vertical-align: top;\n",
       "    }\n",
       "\n",
       "    .dataframe thead th {\n",
       "        text-align: right;\n",
       "    }\n",
       "</style>\n",
       "<table border=\"1\" class=\"dataframe\">\n",
       "  <thead>\n",
       "    <tr style=\"text-align: right;\">\n",
       "      <th></th>\n",
       "      <th>street</th>\n",
       "      <th>state</th>\n",
       "      <th>city</th>\n",
       "      <th>postcode</th>\n",
       "      <th>safety_flag</th>\n",
       "    </tr>\n",
       "  </thead>\n",
       "  <tbody>\n",
       "    <tr>\n",
       "      <td>8240</td>\n",
       "      <td>1280 Market St</td>\n",
       "      <td>TN</td>\n",
       "      <td>Chattanooga</td>\n",
       "      <td>37402-2732</td>\n",
       "      <td>False</td>\n",
       "    </tr>\n",
       "    <tr>\n",
       "      <td>1421</td>\n",
       "      <td>4415 Lincoln LN NW</td>\n",
       "      <td>MN</td>\n",
       "      <td>Rochester</td>\n",
       "      <td>55901</td>\n",
       "      <td>False</td>\n",
       "    </tr>\n",
       "    <tr>\n",
       "      <td>9991</td>\n",
       "      <td>215 2nd Street Floor 3</td>\n",
       "      <td>CA</td>\n",
       "      <td>San Francisco</td>\n",
       "      <td>94105</td>\n",
       "      <td>False</td>\n",
       "    </tr>\n",
       "    <tr>\n",
       "      <td>9152</td>\n",
       "      <td>12391 US Hwy 61</td>\n",
       "      <td>MO</td>\n",
       "      <td>New Madrid</td>\n",
       "      <td>63869</td>\n",
       "      <td>False</td>\n",
       "    </tr>\n",
       "    <tr>\n",
       "      <td>6533</td>\n",
       "      <td>2933 Augusta St</td>\n",
       "      <td>CA</td>\n",
       "      <td>San Luis Obispo</td>\n",
       "      <td>93401</td>\n",
       "      <td>False</td>\n",
       "    </tr>\n",
       "    <tr>\n",
       "      <td>10089</td>\n",
       "      <td>20 West 22nd St Suite 906</td>\n",
       "      <td>NY</td>\n",
       "      <td>New York</td>\n",
       "      <td>10010</td>\n",
       "      <td>False</td>\n",
       "    </tr>\n",
       "    <tr>\n",
       "      <td>9158</td>\n",
       "      <td>119 Wilmont Ct</td>\n",
       "      <td>NY</td>\n",
       "      <td>Hopewell Junction</td>\n",
       "      <td>12533-6372</td>\n",
       "      <td>False</td>\n",
       "    </tr>\n",
       "    <tr>\n",
       "      <td>5966</td>\n",
       "      <td>1125 Hillside Lane</td>\n",
       "      <td>CO</td>\n",
       "      <td>Louisville</td>\n",
       "      <td>80027-2909</td>\n",
       "      <td>False</td>\n",
       "    </tr>\n",
       "    <tr>\n",
       "      <td>9025</td>\n",
       "      <td>1215 Zeno Lane</td>\n",
       "      <td>PA</td>\n",
       "      <td>Allison Park</td>\n",
       "      <td>15101</td>\n",
       "      <td>False</td>\n",
       "    </tr>\n",
       "    <tr>\n",
       "      <td>5161</td>\n",
       "      <td>461 springfield ave</td>\n",
       "      <td>NJ</td>\n",
       "      <td>pennsauken</td>\n",
       "      <td>8053</td>\n",
       "      <td>False</td>\n",
       "    </tr>\n",
       "  </tbody>\n",
       "</table>\n",
       "</div>"
      ],
      "text/plain": [
       "                          street state               city    postcode  \\\n",
       "8240              1280 Market St    TN        Chattanooga  37402-2732   \n",
       "1421          4415 Lincoln LN NW    MN          Rochester       55901   \n",
       "9991      215 2nd Street Floor 3  CA        San Francisco       94105   \n",
       "9152             12391 US Hwy 61    MO         New Madrid       63869   \n",
       "6533             2933 Augusta St    CA    San Luis Obispo       93401   \n",
       "10089  20 West 22nd St Suite 906  NY             New York       10010   \n",
       "9158              119 Wilmont Ct    NY  Hopewell Junction  12533-6372   \n",
       "5966          1125 Hillside Lane    CO         Louisville  80027-2909   \n",
       "9025              1215 Zeno Lane    PA       Allison Park       15101   \n",
       "5161         461 springfield ave    NJ         pennsauken        8053   \n",
       "\n",
       "       safety_flag  \n",
       "8240         False  \n",
       "1421         False  \n",
       "9991         False  \n",
       "9152         False  \n",
       "6533         False  \n",
       "10089        False  \n",
       "9158         False  \n",
       "5966         False  \n",
       "9025         False  \n",
       "5161         False  "
      ]
     },
     "execution_count": 4,
     "metadata": {},
     "output_type": "execute_result"
    }
   ],
   "source": [
    "# Take a look at our results\n",
    "input_data.sample(10)"
   ]
  },
  {
   "cell_type": "markdown",
   "metadata": {},
   "source": [
    "## 2. Get a quick overview of the dataset "
   ]
  },
  {
   "cell_type": "code",
   "execution_count": 5,
   "metadata": {},
   "outputs": [
    {
     "name": "stdout",
     "output_type": "stream",
     "text": [
      "<class 'pandas.core.frame.DataFrame'>\n",
      "RangeIndex: 11229 entries, 0 to 11228\n",
      "Data columns (total 5 columns):\n",
      "street         11229 non-null object\n",
      "state          11220 non-null object\n",
      "city           11220 non-null object\n",
      "postcode       11220 non-null object\n",
      "safety_flag    11229 non-null bool\n",
      "dtypes: bool(1), object(4)\n",
      "memory usage: 362.0+ KB\n"
     ]
    }
   ],
   "source": [
    "input_data.info()"
   ]
  },
  {
   "cell_type": "markdown",
   "metadata": {},
   "source": [
    "## 3. Detect and deal with duplicates"
   ]
  },
  {
   "cell_type": "code",
   "execution_count": 6,
   "metadata": {},
   "outputs": [
    {
     "data": {
      "text/html": [
       "<div>\n",
       "<style scoped>\n",
       "    .dataframe tbody tr th:only-of-type {\n",
       "        vertical-align: middle;\n",
       "    }\n",
       "\n",
       "    .dataframe tbody tr th {\n",
       "        vertical-align: top;\n",
       "    }\n",
       "\n",
       "    .dataframe thead th {\n",
       "        text-align: right;\n",
       "    }\n",
       "</style>\n",
       "<table border=\"1\" class=\"dataframe\">\n",
       "  <thead>\n",
       "    <tr style=\"text-align: right;\">\n",
       "      <th></th>\n",
       "      <th>street</th>\n",
       "      <th>state</th>\n",
       "      <th>city</th>\n",
       "      <th>postcode</th>\n",
       "      <th>safety_flag</th>\n",
       "    </tr>\n",
       "  </thead>\n",
       "  <tbody>\n",
       "    <tr>\n",
       "      <td>399</td>\n",
       "      <td>5847 Morningside Ave</td>\n",
       "      <td>TX</td>\n",
       "      <td>Dallas</td>\n",
       "      <td>75206-5919</td>\n",
       "      <td>True</td>\n",
       "    </tr>\n",
       "    <tr>\n",
       "      <td>1906</td>\n",
       "      <td>257 15th St</td>\n",
       "      <td>NY</td>\n",
       "      <td>Brooklyn</td>\n",
       "      <td>11215-8700</td>\n",
       "      <td>False</td>\n",
       "    </tr>\n",
       "    <tr>\n",
       "      <td>1907</td>\n",
       "      <td>257 15th St</td>\n",
       "      <td>NY</td>\n",
       "      <td>Brooklyn</td>\n",
       "      <td>11215-8700</td>\n",
       "      <td>False</td>\n",
       "    </tr>\n",
       "    <tr>\n",
       "      <td>2476</td>\n",
       "      <td>2510 Cinnamon Ridge Ct</td>\n",
       "      <td>OH</td>\n",
       "      <td>Miamisburg</td>\n",
       "      <td>45342-5209</td>\n",
       "      <td>False</td>\n",
       "    </tr>\n",
       "    <tr>\n",
       "      <td>2477</td>\n",
       "      <td>2510 Cinnamon Ridge Ct</td>\n",
       "      <td>OH</td>\n",
       "      <td>Miamisburg</td>\n",
       "      <td>45342-5209</td>\n",
       "      <td>False</td>\n",
       "    </tr>\n",
       "    <tr>\n",
       "      <td>2483</td>\n",
       "      <td>13028 Chesney Dr</td>\n",
       "      <td>IN</td>\n",
       "      <td>Fishers</td>\n",
       "      <td>46037-7253</td>\n",
       "      <td>False</td>\n",
       "    </tr>\n",
       "    <tr>\n",
       "      <td>2633</td>\n",
       "      <td>28216 Rosewood St</td>\n",
       "      <td>MI</td>\n",
       "      <td>Inkster</td>\n",
       "      <td>48141-1753</td>\n",
       "      <td>False</td>\n",
       "    </tr>\n",
       "    <tr>\n",
       "      <td>2833</td>\n",
       "      <td>14836 Kentucky Street</td>\n",
       "      <td>MI</td>\n",
       "      <td>Detroit</td>\n",
       "      <td>48238</td>\n",
       "      <td>True</td>\n",
       "    </tr>\n",
       "    <tr>\n",
       "      <td>2904</td>\n",
       "      <td>10028 Ives Loop</td>\n",
       "      <td>FL</td>\n",
       "      <td>Hudson</td>\n",
       "      <td>34667-0013</td>\n",
       "      <td>False</td>\n",
       "    </tr>\n",
       "    <tr>\n",
       "      <td>3196</td>\n",
       "      <td>14836 Kentucky Street</td>\n",
       "      <td>MI</td>\n",
       "      <td>Detroit</td>\n",
       "      <td>48238</td>\n",
       "      <td>True</td>\n",
       "    </tr>\n",
       "    <tr>\n",
       "      <td>3311</td>\n",
       "      <td>6065 Peart Rd</td>\n",
       "      <td>IL</td>\n",
       "      <td>Morris</td>\n",
       "      <td>60450-9511</td>\n",
       "      <td>False</td>\n",
       "    </tr>\n",
       "    <tr>\n",
       "      <td>3376</td>\n",
       "      <td>1148 Lady Victoria Way</td>\n",
       "      <td>VA</td>\n",
       "      <td>Virginia Beach</td>\n",
       "      <td>23464</td>\n",
       "      <td>True</td>\n",
       "    </tr>\n",
       "    <tr>\n",
       "      <td>3378</td>\n",
       "      <td>1148 Lady Victoria Way</td>\n",
       "      <td>VA</td>\n",
       "      <td>Virginia Beach</td>\n",
       "      <td>23464</td>\n",
       "      <td>True</td>\n",
       "    </tr>\n",
       "    <tr>\n",
       "      <td>5484</td>\n",
       "      <td>10028 Ives Loop</td>\n",
       "      <td>FL</td>\n",
       "      <td>Hudson</td>\n",
       "      <td>34667-0013</td>\n",
       "      <td>False</td>\n",
       "    </tr>\n",
       "    <tr>\n",
       "      <td>5701</td>\n",
       "      <td>5847 Morningside Ave</td>\n",
       "      <td>TX</td>\n",
       "      <td>Dallas</td>\n",
       "      <td>75206-5919</td>\n",
       "      <td>True</td>\n",
       "    </tr>\n",
       "    <tr>\n",
       "      <td>6302</td>\n",
       "      <td>273 Parrott St</td>\n",
       "      <td>CA</td>\n",
       "      <td>San Leandro</td>\n",
       "      <td>94577-4430</td>\n",
       "      <td>False</td>\n",
       "    </tr>\n",
       "    <tr>\n",
       "      <td>6306</td>\n",
       "      <td>273 Parrott St</td>\n",
       "      <td>CA</td>\n",
       "      <td>San Leandro</td>\n",
       "      <td>94577-4430</td>\n",
       "      <td>False</td>\n",
       "    </tr>\n",
       "    <tr>\n",
       "      <td>6565</td>\n",
       "      <td>28216 Rosewood St</td>\n",
       "      <td>MI</td>\n",
       "      <td>Inkster</td>\n",
       "      <td>48141-1753</td>\n",
       "      <td>False</td>\n",
       "    </tr>\n",
       "    <tr>\n",
       "      <td>7701</td>\n",
       "      <td>6065 Peart Rd</td>\n",
       "      <td>IL</td>\n",
       "      <td>Morris</td>\n",
       "      <td>60450-9511</td>\n",
       "      <td>False</td>\n",
       "    </tr>\n",
       "    <tr>\n",
       "      <td>7975</td>\n",
       "      <td>2407 Bare St</td>\n",
       "      <td>VA</td>\n",
       "      <td>Staunton</td>\n",
       "      <td>24401-3776</td>\n",
       "      <td>False</td>\n",
       "    </tr>\n",
       "    <tr>\n",
       "      <td>7976</td>\n",
       "      <td>2407 Bare St</td>\n",
       "      <td>VA</td>\n",
       "      <td>Staunton</td>\n",
       "      <td>24401-3776</td>\n",
       "      <td>False</td>\n",
       "    </tr>\n",
       "    <tr>\n",
       "      <td>8708</td>\n",
       "      <td>13028 Chesney Dr</td>\n",
       "      <td>IN</td>\n",
       "      <td>Fishers</td>\n",
       "      <td>46037-7253</td>\n",
       "      <td>False</td>\n",
       "    </tr>\n",
       "    <tr>\n",
       "      <td>9347</td>\n",
       "      <td></td>\n",
       "      <td>NaN</td>\n",
       "      <td>NaN</td>\n",
       "      <td>NaN</td>\n",
       "      <td>False</td>\n",
       "    </tr>\n",
       "    <tr>\n",
       "      <td>9364</td>\n",
       "      <td>190 E 98th St</td>\n",
       "      <td>NY</td>\n",
       "      <td>Brooklyn</td>\n",
       "      <td>11212</td>\n",
       "      <td>False</td>\n",
       "    </tr>\n",
       "    <tr>\n",
       "      <td>9571</td>\n",
       "      <td>190 E 98th St</td>\n",
       "      <td>NY</td>\n",
       "      <td>Brooklyn</td>\n",
       "      <td>11212</td>\n",
       "      <td>False</td>\n",
       "    </tr>\n",
       "    <tr>\n",
       "      <td>9577</td>\n",
       "      <td>190 E 98th St</td>\n",
       "      <td>NY</td>\n",
       "      <td>Brooklyn</td>\n",
       "      <td>11212</td>\n",
       "      <td>False</td>\n",
       "    </tr>\n",
       "    <tr>\n",
       "      <td>9694</td>\n",
       "      <td></td>\n",
       "      <td>NaN</td>\n",
       "      <td>NaN</td>\n",
       "      <td>NaN</td>\n",
       "      <td>False</td>\n",
       "    </tr>\n",
       "    <tr>\n",
       "      <td>9948</td>\n",
       "      <td>PO BOX 3188</td>\n",
       "      <td>CA</td>\n",
       "      <td>Los Altos</td>\n",
       "      <td>94024</td>\n",
       "      <td>True</td>\n",
       "    </tr>\n",
       "    <tr>\n",
       "      <td>10347</td>\n",
       "      <td>10971 Terry Way</td>\n",
       "      <td>CA</td>\n",
       "      <td>Los Altos</td>\n",
       "      <td>94024</td>\n",
       "      <td>False</td>\n",
       "    </tr>\n",
       "    <tr>\n",
       "      <td>10379</td>\n",
       "      <td>537 W 25TH ST 4TH FL</td>\n",
       "      <td>NY</td>\n",
       "      <td>NEW YORK</td>\n",
       "      <td>10001</td>\n",
       "      <td>False</td>\n",
       "    </tr>\n",
       "    <tr>\n",
       "      <td>10531</td>\n",
       "      <td></td>\n",
       "      <td>NaN</td>\n",
       "      <td>NaN</td>\n",
       "      <td>NaN</td>\n",
       "      <td>False</td>\n",
       "    </tr>\n",
       "    <tr>\n",
       "      <td>10617</td>\n",
       "      <td>1161 Mission St</td>\n",
       "      <td>CA</td>\n",
       "      <td>San Francisco</td>\n",
       "      <td>94103</td>\n",
       "      <td>False</td>\n",
       "    </tr>\n",
       "    <tr>\n",
       "      <td>10883</td>\n",
       "      <td>23 Cattano Ave</td>\n",
       "      <td>NJ</td>\n",
       "      <td>Morristown</td>\n",
       "      <td>7960</td>\n",
       "      <td>True</td>\n",
       "    </tr>\n",
       "    <tr>\n",
       "      <td>10892</td>\n",
       "      <td>537 W 25TH ST 4TH FL</td>\n",
       "      <td>NY</td>\n",
       "      <td>NEW YORK</td>\n",
       "      <td>10001</td>\n",
       "      <td>False</td>\n",
       "    </tr>\n",
       "    <tr>\n",
       "      <td>10910</td>\n",
       "      <td>PO BOX 3188</td>\n",
       "      <td>CA</td>\n",
       "      <td>Los Altos</td>\n",
       "      <td>94024</td>\n",
       "      <td>True</td>\n",
       "    </tr>\n",
       "    <tr>\n",
       "      <td>10961</td>\n",
       "      <td>1161 Mission St</td>\n",
       "      <td>CA</td>\n",
       "      <td>San Francisco</td>\n",
       "      <td>94103</td>\n",
       "      <td>False</td>\n",
       "    </tr>\n",
       "    <tr>\n",
       "      <td>10966</td>\n",
       "      <td>10971 Terry Way</td>\n",
       "      <td>CA</td>\n",
       "      <td>Los Altos</td>\n",
       "      <td>94024</td>\n",
       "      <td>False</td>\n",
       "    </tr>\n",
       "    <tr>\n",
       "      <td>11113</td>\n",
       "      <td>23 Cattano Ave</td>\n",
       "      <td>NJ</td>\n",
       "      <td>Morristown</td>\n",
       "      <td>7960</td>\n",
       "      <td>True</td>\n",
       "    </tr>\n",
       "  </tbody>\n",
       "</table>\n",
       "</div>"
      ],
      "text/plain": [
       "                       street state            city    postcode  safety_flag\n",
       "399      5847 Morningside Ave    TX          Dallas  75206-5919         True\n",
       "1906              257 15th St    NY        Brooklyn  11215-8700        False\n",
       "1907              257 15th St    NY        Brooklyn  11215-8700        False\n",
       "2476   2510 Cinnamon Ridge Ct    OH      Miamisburg  45342-5209        False\n",
       "2477   2510 Cinnamon Ridge Ct    OH      Miamisburg  45342-5209        False\n",
       "2483         13028 Chesney Dr    IN         Fishers  46037-7253        False\n",
       "2633        28216 Rosewood St    MI         Inkster  48141-1753        False\n",
       "2833    14836 Kentucky Street    MI         Detroit       48238         True\n",
       "2904          10028 Ives Loop    FL          Hudson  34667-0013        False\n",
       "3196    14836 Kentucky Street    MI         Detroit       48238         True\n",
       "3311            6065 Peart Rd    IL          Morris  60450-9511        False\n",
       "3376   1148 Lady Victoria Way    VA  Virginia Beach       23464         True\n",
       "3378   1148 Lady Victoria Way    VA  Virginia Beach       23464         True\n",
       "5484          10028 Ives Loop    FL          Hudson  34667-0013        False\n",
       "5701     5847 Morningside Ave    TX          Dallas  75206-5919         True\n",
       "6302           273 Parrott St    CA     San Leandro  94577-4430        False\n",
       "6306           273 Parrott St    CA     San Leandro  94577-4430        False\n",
       "6565        28216 Rosewood St    MI         Inkster  48141-1753        False\n",
       "7701            6065 Peart Rd    IL          Morris  60450-9511        False\n",
       "7975             2407 Bare St    VA        Staunton  24401-3776        False\n",
       "7976             2407 Bare St    VA        Staunton  24401-3776        False\n",
       "8708         13028 Chesney Dr    IN         Fishers  46037-7253        False\n",
       "9347                            NaN             NaN         NaN        False\n",
       "9364           190 E 98th St   NY          Brooklyn       11212        False\n",
       "9571           190 E 98th St   NY          Brooklyn       11212        False\n",
       "9577           190 E 98th St   NY          Brooklyn       11212        False\n",
       "9694                            NaN             NaN         NaN        False\n",
       "9948             PO BOX 3188   CA         Los Altos       94024         True\n",
       "10347        10971 Terry Way   CA         Los Altos       94024        False\n",
       "10379    537 W 25TH ST 4TH FL  NY          NEW YORK       10001        False\n",
       "10531                           NaN             NaN         NaN        False\n",
       "10617        1161 Mission St   CA     San Francisco       94103        False\n",
       "10883         23 Cattano Ave   NJ        Morristown        7960         True\n",
       "10892    537 W 25TH ST 4TH FL  NY          NEW YORK       10001        False\n",
       "10910            PO BOX 3188   CA         Los Altos       94024         True\n",
       "10961        1161 Mission St   CA     San Francisco       94103        False\n",
       "10966        10971 Terry Way   CA         Los Altos       94024        False\n",
       "11113         23 Cattano Ave   NJ        Morristown        7960         True"
      ]
     },
     "execution_count": 6,
     "metadata": {},
     "output_type": "execute_result"
    }
   ],
   "source": [
    "df_dup = input_data.copy()\n",
    "df_dup =df_dup[df_dup.duplicated(keep=False)]\n",
    "\n",
    "# Take a look at our results\n",
    "df_dup"
   ]
  },
  {
   "cell_type": "code",
   "execution_count": 7,
   "metadata": {},
   "outputs": [
    {
     "name": "stdout",
     "output_type": "stream",
     "text": [
      "Shape with duplicates:  (11229, 5)\n"
     ]
    }
   ],
   "source": [
    "print('Shape with duplicates: ', input_data.shape)"
   ]
  },
  {
   "cell_type": "code",
   "execution_count": 8,
   "metadata": {},
   "outputs": [
    {
     "name": "stdout",
     "output_type": "stream",
     "text": [
      "Shape without duplicates:  (11209, 5)\n"
     ]
    }
   ],
   "source": [
    "df_drop_dup = input_data.copy()\n",
    "df_drop_dup.drop_duplicates(inplace=True)\n",
    "print('Shape without duplicates: ', df_drop_dup.shape)"
   ]
  },
  {
   "cell_type": "markdown",
   "metadata": {},
   "source": [
    "> As missing values need to be handled according to the conditions, we will deal with this problem based on the validation result."
   ]
  },
  {
   "cell_type": "markdown",
   "metadata": {},
   "source": [
    "## 4. Validate the input data before enrichment"
   ]
  },
  {
   "cell_type": "code",
   "execution_count": 9,
   "metadata": {},
   "outputs": [
    {
     "data": {
      "text/html": [
       "<table><tr><th>Column</th><th>Status</th><th>Description</th></tr><tr><th><a href=\"https://demyst.com/docs/demyst-live/types/#street\" target=\"_blank\">street</a></th><td style=\"background-color: lightgreen\"><nobr>All Valid</nobr></td><td style=\"text-align: left\">All values in this column are good to go.</td></tr><tr><th><a href=\"https://demyst.com/docs/demyst-live/types/#state\" target=\"_blank\">state</a></th><td style=\"background-color: peachpuff\"><nobr>Some Invalid</nobr></td><td style=\"text-align: left\">16.8% of the values of this column failed validation. One example of an invalid value is 'NJ  '. <a href=\"https://demyst.com/docs/demyst-live/types/#state\" target=\"_blank\">Click here for documentation for this column.</a></td></tr><tr><th><a href=\"https://demyst.com/docs/demyst-live/types/#city\" target=\"_blank\">city</a></th><td style=\"background-color: lightgreen\"><nobr>All Valid</nobr></td><td style=\"text-align: left\">All values in this column are good to go.</td></tr><tr><th>postcode</th><td style=\"background-color: lightpink\"><nobr>Unrecognized Column Name</nobr></td><td style=\"text-align: left\">This column name is not supported. <a href=\"https://demyst.com/docs/demyst-live/types/\" target=\"_blank\">Click here for a list of all supported column names.</a></td></tr><tr><th>safety_flag</th><td style=\"background-color: lightpink\"><nobr>Unrecognized Column Name</nobr></td><td style=\"text-align: left\">This column name is not supported. <a href=\"https://demyst.com/docs/demyst-live/types/\" target=\"_blank\">Click here for a list of all supported column names.</a></td></tr></table>"
      ],
      "text/plain": [
       "<demyst.analytics.analytics.Validation at 0x13fc90490>"
      ]
     },
     "execution_count": 9,
     "metadata": {},
     "output_type": "execute_result"
    }
   ],
   "source": [
    "analytics.validate(input_data)"
   ]
  },
  {
   "cell_type": "markdown",
   "metadata": {},
   "source": [
    "### According to the documentation, we can know that \"state\" should meet the criteria:\n",
    "\n",
    "> If US it must be a valid 2 character state code or state name. Empty otherwise"
   ]
  },
  {
   "cell_type": "markdown",
   "metadata": {},
   "source": [
    "## 4.1 Clean \"state\""
   ]
  },
  {
   "cell_type": "code",
   "execution_count": 10,
   "metadata": {},
   "outputs": [
    {
     "data": {
      "text/plain": [
       "array(['FL', 'IN', 'VA', 'OH', 'MA', 'MN', 'WI', 'NC', 'CO', 'CA', 'NY',\n",
       "       'NH', 'CT', 'MD', 'NJ', 'KY', 'WA', 'IA', 'LA', 'GA', 'IL', 'TX',\n",
       "       'AZ', 'DE', 'MI', 'RI', 'OR', 'AR', 'HI', 'PA', 'SC', 'AL', 'TN',\n",
       "       'WY', 'NV', 'NE', 'MT', 'MS', 'OK', 'KS', 'MO', 'ID', 'DC', 'UT',\n",
       "       'NM', 'ND', 'ME', 'VT', 'AK', 'SD', 'NJ  ', 'NY  ', nan, 'CA  ',\n",
       "       'OR  ', 'GA  ', 'MI  ', 'AZ  ', 'TX  ', 'PA  '], dtype=object)"
      ]
     },
     "execution_count": 10,
     "metadata": {},
     "output_type": "execute_result"
    }
   ],
   "source": [
    "input_data.state.unique()"
   ]
  },
  {
   "cell_type": "markdown",
   "metadata": {},
   "source": [
    "### 4.1.1 Remove NaN value"
   ]
  },
  {
   "cell_type": "code",
   "execution_count": 11,
   "metadata": {},
   "outputs": [
    {
     "data": {
      "text/plain": [
       "9"
      ]
     },
     "execution_count": 11,
     "metadata": {},
     "output_type": "execute_result"
    }
   ],
   "source": [
    "input_data.state.isnull().sum()"
   ]
  },
  {
   "cell_type": "code",
   "execution_count": 12,
   "metadata": {},
   "outputs": [],
   "source": [
    "df_state_cleaned = input_data.copy()\n",
    "df_state_cleaned = df_state_cleaned.dropna(subset = [\"state\"])"
   ]
  },
  {
   "cell_type": "code",
   "execution_count": 13,
   "metadata": {},
   "outputs": [
    {
     "data": {
      "text/html": [
       "<div>\n",
       "<style scoped>\n",
       "    .dataframe tbody tr th:only-of-type {\n",
       "        vertical-align: middle;\n",
       "    }\n",
       "\n",
       "    .dataframe tbody tr th {\n",
       "        vertical-align: top;\n",
       "    }\n",
       "\n",
       "    .dataframe thead th {\n",
       "        text-align: right;\n",
       "    }\n",
       "</style>\n",
       "<table border=\"1\" class=\"dataframe\">\n",
       "  <thead>\n",
       "    <tr style=\"text-align: right;\">\n",
       "      <th></th>\n",
       "      <th>street</th>\n",
       "      <th>state</th>\n",
       "      <th>city</th>\n",
       "      <th>postcode</th>\n",
       "      <th>safety_flag</th>\n",
       "    </tr>\n",
       "  </thead>\n",
       "  <tbody>\n",
       "    <tr>\n",
       "      <td>8096</td>\n",
       "      <td>3733 Southeast 167th Avenue</td>\n",
       "      <td>OR</td>\n",
       "      <td>Southeast Portland</td>\n",
       "      <td>97236</td>\n",
       "      <td>False</td>\n",
       "    </tr>\n",
       "    <tr>\n",
       "      <td>2241</td>\n",
       "      <td>2027 Mondello Court</td>\n",
       "      <td>CA</td>\n",
       "      <td>Riverside</td>\n",
       "      <td>92507</td>\n",
       "      <td>False</td>\n",
       "    </tr>\n",
       "    <tr>\n",
       "      <td>10922</td>\n",
       "      <td>315 Madison Avenue, 3rd Floor</td>\n",
       "      <td>NY</td>\n",
       "      <td>New York</td>\n",
       "      <td>10017</td>\n",
       "      <td>False</td>\n",
       "    </tr>\n",
       "    <tr>\n",
       "      <td>8294</td>\n",
       "      <td>907 Amber Ln</td>\n",
       "      <td>AR</td>\n",
       "      <td>Manila</td>\n",
       "      <td>72442-8273</td>\n",
       "      <td>False</td>\n",
       "    </tr>\n",
       "    <tr>\n",
       "      <td>2459</td>\n",
       "      <td>12428 W Solano Dr</td>\n",
       "      <td>AZ</td>\n",
       "      <td>Litchfield Park</td>\n",
       "      <td>85340</td>\n",
       "      <td>False</td>\n",
       "    </tr>\n",
       "    <tr>\n",
       "      <td>3417</td>\n",
       "      <td>21500 Park Row Drive</td>\n",
       "      <td>TX</td>\n",
       "      <td>Katy</td>\n",
       "      <td>77449</td>\n",
       "      <td>False</td>\n",
       "    </tr>\n",
       "    <tr>\n",
       "      <td>6727</td>\n",
       "      <td>6016 Brigids Close Drive</td>\n",
       "      <td>OH</td>\n",
       "      <td>Dublin</td>\n",
       "      <td>43017</td>\n",
       "      <td>False</td>\n",
       "    </tr>\n",
       "    <tr>\n",
       "      <td>2354</td>\n",
       "      <td>13375 PINE ST</td>\n",
       "      <td>MI</td>\n",
       "      <td>Taylor</td>\n",
       "      <td>48180</td>\n",
       "      <td>False</td>\n",
       "    </tr>\n",
       "    <tr>\n",
       "      <td>63</td>\n",
       "      <td>710 Ashton</td>\n",
       "      <td>TX</td>\n",
       "      <td>Cactus</td>\n",
       "      <td>79013</td>\n",
       "      <td>True</td>\n",
       "    </tr>\n",
       "    <tr>\n",
       "      <td>10090</td>\n",
       "      <td>225-16 95 Ave</td>\n",
       "      <td>NY</td>\n",
       "      <td>Floral Park</td>\n",
       "      <td>11001</td>\n",
       "      <td>True</td>\n",
       "    </tr>\n",
       "  </tbody>\n",
       "</table>\n",
       "</div>"
      ],
      "text/plain": [
       "                               street state                city    postcode  \\\n",
       "8096      3733 Southeast 167th Avenue    OR  Southeast Portland       97236   \n",
       "2241              2027 Mondello Court    CA           Riverside       92507   \n",
       "10922  315 Madison Avenue, 3rd Floor   NY              New York       10017   \n",
       "8294                     907 Amber Ln    AR              Manila  72442-8273   \n",
       "2459                12428 W Solano Dr    AZ     Litchfield Park       85340   \n",
       "3417             21500 Park Row Drive    TX                Katy       77449   \n",
       "6727         6016 Brigids Close Drive    OH              Dublin       43017   \n",
       "2354                    13375 PINE ST    MI              Taylor       48180   \n",
       "63                         710 Ashton    TX              Cactus       79013   \n",
       "10090                  225-16 95 Ave   NY           Floral Park       11001   \n",
       "\n",
       "       safety_flag  \n",
       "8096         False  \n",
       "2241         False  \n",
       "10922        False  \n",
       "8294         False  \n",
       "2459         False  \n",
       "3417         False  \n",
       "6727         False  \n",
       "2354         False  \n",
       "63            True  \n",
       "10090         True  "
      ]
     },
     "execution_count": 13,
     "metadata": {},
     "output_type": "execute_result"
    }
   ],
   "source": [
    "# Take a look at our results\n",
    "df_state_cleaned.sample(10)"
   ]
  },
  {
   "cell_type": "code",
   "execution_count": 14,
   "metadata": {},
   "outputs": [],
   "source": [
    "assert df_state_cleaned.state.isnull().sum() == 0"
   ]
  },
  {
   "cell_type": "markdown",
   "metadata": {},
   "source": [
    "### 4.1.2 Clean the format"
   ]
  },
  {
   "cell_type": "code",
   "execution_count": 15,
   "metadata": {},
   "outputs": [
    {
     "data": {
      "text/html": [
       "<div>\n",
       "<style scoped>\n",
       "    .dataframe tbody tr th:only-of-type {\n",
       "        vertical-align: middle;\n",
       "    }\n",
       "\n",
       "    .dataframe tbody tr th {\n",
       "        vertical-align: top;\n",
       "    }\n",
       "\n",
       "    .dataframe thead th {\n",
       "        text-align: right;\n",
       "    }\n",
       "</style>\n",
       "<table border=\"1\" class=\"dataframe\">\n",
       "  <thead>\n",
       "    <tr style=\"text-align: right;\">\n",
       "      <th></th>\n",
       "      <th>street</th>\n",
       "      <th>state</th>\n",
       "      <th>city</th>\n",
       "      <th>postcode</th>\n",
       "      <th>safety_flag</th>\n",
       "    </tr>\n",
       "  </thead>\n",
       "  <tbody>\n",
       "    <tr>\n",
       "      <td>6281</td>\n",
       "      <td>3036 Hunton Cottage Ln.</td>\n",
       "      <td>VA</td>\n",
       "      <td>Glen Allen</td>\n",
       "      <td>23059</td>\n",
       "      <td>False</td>\n",
       "    </tr>\n",
       "    <tr>\n",
       "      <td>4591</td>\n",
       "      <td>503 Moonlight Trail</td>\n",
       "      <td>TX</td>\n",
       "      <td>Stephenville</td>\n",
       "      <td>76401</td>\n",
       "      <td>False</td>\n",
       "    </tr>\n",
       "    <tr>\n",
       "      <td>4429</td>\n",
       "      <td>200 E Harrison Ave</td>\n",
       "      <td>IA</td>\n",
       "      <td>Fairfield</td>\n",
       "      <td>52556</td>\n",
       "      <td>False</td>\n",
       "    </tr>\n",
       "    <tr>\n",
       "      <td>8511</td>\n",
       "      <td>2111 E Chandler Ave</td>\n",
       "      <td>IN</td>\n",
       "      <td>Evansville</td>\n",
       "      <td>47714-2223</td>\n",
       "      <td>False</td>\n",
       "    </tr>\n",
       "    <tr>\n",
       "      <td>9125</td>\n",
       "      <td>1611 Grand Meadows Ct</td>\n",
       "      <td>TX</td>\n",
       "      <td>Katy</td>\n",
       "      <td>77494-2177</td>\n",
       "      <td>False</td>\n",
       "    </tr>\n",
       "    <tr>\n",
       "      <td>8152</td>\n",
       "      <td>7905 Fernham Ln</td>\n",
       "      <td>MD</td>\n",
       "      <td>District Heights</td>\n",
       "      <td>20747-4544</td>\n",
       "      <td>False</td>\n",
       "    </tr>\n",
       "    <tr>\n",
       "      <td>10691</td>\n",
       "      <td>320 PARK AVE</td>\n",
       "      <td>NJ</td>\n",
       "      <td>PLAINFIELD</td>\n",
       "      <td>7060</td>\n",
       "      <td>False</td>\n",
       "    </tr>\n",
       "    <tr>\n",
       "      <td>2198</td>\n",
       "      <td>601 W 88th Ter</td>\n",
       "      <td>MO</td>\n",
       "      <td>Kansas City</td>\n",
       "      <td>64114-2913</td>\n",
       "      <td>False</td>\n",
       "    </tr>\n",
       "    <tr>\n",
       "      <td>7200</td>\n",
       "      <td>10834 Carloway Hills Dr</td>\n",
       "      <td>FL</td>\n",
       "      <td>Wimauma</td>\n",
       "      <td>33598-6141</td>\n",
       "      <td>False</td>\n",
       "    </tr>\n",
       "    <tr>\n",
       "      <td>6045</td>\n",
       "      <td>3016 Southwest Chastain Avenue</td>\n",
       "      <td>OR</td>\n",
       "      <td>Gresham</td>\n",
       "      <td>97080</td>\n",
       "      <td>False</td>\n",
       "    </tr>\n",
       "  </tbody>\n",
       "</table>\n",
       "</div>"
      ],
      "text/plain": [
       "                               street state              city    postcode  \\\n",
       "6281          3036 Hunton Cottage Ln.    VA        Glen Allen       23059   \n",
       "4591              503 Moonlight Trail    TX      Stephenville       76401   \n",
       "4429               200 E Harrison Ave    IA         Fairfield       52556   \n",
       "8511              2111 E Chandler Ave    IN        Evansville  47714-2223   \n",
       "9125            1611 Grand Meadows Ct    TX              Katy  77494-2177   \n",
       "8152                  7905 Fernham Ln    MD  District Heights  20747-4544   \n",
       "10691                   320 PARK AVE     NJ        PLAINFIELD        7060   \n",
       "2198                   601 W 88th Ter    MO       Kansas City  64114-2913   \n",
       "7200          10834 Carloway Hills Dr    FL           Wimauma  33598-6141   \n",
       "6045   3016 Southwest Chastain Avenue    OR           Gresham       97080   \n",
       "\n",
       "       safety_flag  \n",
       "6281         False  \n",
       "4591         False  \n",
       "4429         False  \n",
       "8511         False  \n",
       "9125         False  \n",
       "8152         False  \n",
       "10691        False  \n",
       "2198         False  \n",
       "7200         False  \n",
       "6045         False  "
      ]
     },
     "execution_count": 15,
     "metadata": {},
     "output_type": "execute_result"
    }
   ],
   "source": [
    "df_state_cleaned.state = df_state_cleaned.state.str.strip()\n",
    "\n",
    "# Take a look at our results\n",
    "df_state_cleaned.sample(10)"
   ]
  },
  {
   "cell_type": "code",
   "execution_count": 16,
   "metadata": {},
   "outputs": [
    {
     "data": {
      "text/plain": [
       "array(['FL', 'IN', 'VA', 'OH', 'MA', 'MN', 'WI', 'NC', 'CO', 'CA', 'NY',\n",
       "       'NH', 'CT', 'MD', 'NJ', 'KY', 'WA', 'IA', 'LA', 'GA', 'IL', 'TX',\n",
       "       'AZ', 'DE', 'MI', 'RI', 'OR', 'AR', 'HI', 'PA', 'SC', 'AL', 'TN',\n",
       "       'WY', 'NV', 'NE', 'MT', 'MS', 'OK', 'KS', 'MO', 'ID', 'DC', 'UT',\n",
       "       'NM', 'ND', 'ME', 'VT', 'AK', 'SD'], dtype=object)"
      ]
     },
     "execution_count": 16,
     "metadata": {},
     "output_type": "execute_result"
    }
   ],
   "source": [
    "df_state_cleaned.state.unique()"
   ]
  },
  {
   "cell_type": "markdown",
   "metadata": {},
   "source": [
    "### According to the documentation, we can know that \"postcode\" could be recognized withn the name \"post_code\" and \"post_code\" should meet the criteria:\n",
    "\n",
    "> If US 5 or 9 digit postcode, dash or no dash separating. other countries need be non empty"
   ]
  },
  {
   "cell_type": "markdown",
   "metadata": {},
   "source": [
    "## 4.2 Clean postcode"
   ]
  },
  {
   "cell_type": "code",
   "execution_count": 17,
   "metadata": {},
   "outputs": [],
   "source": [
    "df_post_code = df_state_cleaned.copy()"
   ]
  },
  {
   "cell_type": "markdown",
   "metadata": {},
   "source": [
    "### 4.2.1 Rename column \"postcode\""
   ]
  },
  {
   "cell_type": "code",
   "execution_count": 18,
   "metadata": {},
   "outputs": [],
   "source": [
    "df_post_code = df_state_cleaned.copy()\n",
    "df_post_code.rename(columns={\"postcode\":\"post_code\"}, inplace=True)"
   ]
  },
  {
   "cell_type": "code",
   "execution_count": 19,
   "metadata": {},
   "outputs": [
    {
     "data": {
      "text/html": [
       "<div>\n",
       "<style scoped>\n",
       "    .dataframe tbody tr th:only-of-type {\n",
       "        vertical-align: middle;\n",
       "    }\n",
       "\n",
       "    .dataframe tbody tr th {\n",
       "        vertical-align: top;\n",
       "    }\n",
       "\n",
       "    .dataframe thead th {\n",
       "        text-align: right;\n",
       "    }\n",
       "</style>\n",
       "<table border=\"1\" class=\"dataframe\">\n",
       "  <thead>\n",
       "    <tr style=\"text-align: right;\">\n",
       "      <th></th>\n",
       "      <th>street</th>\n",
       "      <th>state</th>\n",
       "      <th>city</th>\n",
       "      <th>post_code</th>\n",
       "      <th>safety_flag</th>\n",
       "    </tr>\n",
       "  </thead>\n",
       "  <tbody>\n",
       "    <tr>\n",
       "      <td>5943</td>\n",
       "      <td>3327 Rainshore Dr</td>\n",
       "      <td>TX</td>\n",
       "      <td>Katy</td>\n",
       "      <td>77449-7020</td>\n",
       "      <td>False</td>\n",
       "    </tr>\n",
       "    <tr>\n",
       "      <td>2507</td>\n",
       "      <td>18 Lake St</td>\n",
       "      <td>MA</td>\n",
       "      <td>Somerset</td>\n",
       "      <td>2726</td>\n",
       "      <td>False</td>\n",
       "    </tr>\n",
       "    <tr>\n",
       "      <td>7549</td>\n",
       "      <td>909 Grand Ave</td>\n",
       "      <td>CA</td>\n",
       "      <td>Ojai</td>\n",
       "      <td>93023</td>\n",
       "      <td>False</td>\n",
       "    </tr>\n",
       "    <tr>\n",
       "      <td>4803</td>\n",
       "      <td>115 Country Club Dr</td>\n",
       "      <td>FL</td>\n",
       "      <td>Niceville</td>\n",
       "      <td>32578-2005</td>\n",
       "      <td>False</td>\n",
       "    </tr>\n",
       "    <tr>\n",
       "      <td>736</td>\n",
       "      <td>3100 W End Cir</td>\n",
       "      <td>TN</td>\n",
       "      <td>Nashville</td>\n",
       "      <td>37203-1413</td>\n",
       "      <td>False</td>\n",
       "    </tr>\n",
       "    <tr>\n",
       "      <td>3608</td>\n",
       "      <td>500 NW 11th St</td>\n",
       "      <td>TX</td>\n",
       "      <td>Andrews</td>\n",
       "      <td>79714-4707</td>\n",
       "      <td>False</td>\n",
       "    </tr>\n",
       "    <tr>\n",
       "      <td>3122</td>\n",
       "      <td>406 Washington Ave.</td>\n",
       "      <td>NY</td>\n",
       "      <td>Brentwood</td>\n",
       "      <td>11717</td>\n",
       "      <td>False</td>\n",
       "    </tr>\n",
       "    <tr>\n",
       "      <td>4015</td>\n",
       "      <td>2945 Pheasant Dr</td>\n",
       "      <td>GA</td>\n",
       "      <td>Decatur</td>\n",
       "      <td>30034</td>\n",
       "      <td>False</td>\n",
       "    </tr>\n",
       "    <tr>\n",
       "      <td>8657</td>\n",
       "      <td>197 Stephenson Rd</td>\n",
       "      <td>AR</td>\n",
       "      <td>Dierks</td>\n",
       "      <td>71833-8834</td>\n",
       "      <td>False</td>\n",
       "    </tr>\n",
       "    <tr>\n",
       "      <td>148</td>\n",
       "      <td>1007 W Deer Creek Dr</td>\n",
       "      <td>IN</td>\n",
       "      <td>Brazil</td>\n",
       "      <td>47834-7919</td>\n",
       "      <td>False</td>\n",
       "    </tr>\n",
       "  </tbody>\n",
       "</table>\n",
       "</div>"
      ],
      "text/plain": [
       "                    street state       city   post_code  safety_flag\n",
       "5943     3327 Rainshore Dr    TX       Katy  77449-7020        False\n",
       "2507            18 Lake St    MA   Somerset        2726        False\n",
       "7549         909 Grand Ave    CA       Ojai       93023        False\n",
       "4803   115 Country Club Dr    FL  Niceville  32578-2005        False\n",
       "736         3100 W End Cir    TN  Nashville  37203-1413        False\n",
       "3608        500 NW 11th St    TX    Andrews  79714-4707        False\n",
       "3122   406 Washington Ave.    NY  Brentwood       11717        False\n",
       "4015      2945 Pheasant Dr    GA    Decatur       30034        False\n",
       "8657     197 Stephenson Rd    AR     Dierks  71833-8834        False\n",
       "148   1007 W Deer Creek Dr    IN     Brazil  47834-7919        False"
      ]
     },
     "execution_count": 19,
     "metadata": {},
     "output_type": "execute_result"
    }
   ],
   "source": [
    "# Take a look at our results\n",
    "df_post_code.sample(10)"
   ]
  },
  {
   "cell_type": "markdown",
   "metadata": {},
   "source": [
    "### 4.2.2 Detecting Missing Values"
   ]
  },
  {
   "cell_type": "code",
   "execution_count": 20,
   "metadata": {},
   "outputs": [
    {
     "data": {
      "text/plain": [
       "1"
      ]
     },
     "execution_count": 20,
     "metadata": {},
     "output_type": "execute_result"
    }
   ],
   "source": [
    "df_post_code.post_code.isnull().sum()"
   ]
  },
  {
   "cell_type": "markdown",
   "metadata": {},
   "source": [
    "### 4.2.3 Remove Missing Values"
   ]
  },
  {
   "cell_type": "code",
   "execution_count": 21,
   "metadata": {
    "scrolled": true
   },
   "outputs": [
    {
     "data": {
      "text/html": [
       "<div>\n",
       "<style scoped>\n",
       "    .dataframe tbody tr th:only-of-type {\n",
       "        vertical-align: middle;\n",
       "    }\n",
       "\n",
       "    .dataframe tbody tr th {\n",
       "        vertical-align: top;\n",
       "    }\n",
       "\n",
       "    .dataframe thead th {\n",
       "        text-align: right;\n",
       "    }\n",
       "</style>\n",
       "<table border=\"1\" class=\"dataframe\">\n",
       "  <thead>\n",
       "    <tr style=\"text-align: right;\">\n",
       "      <th></th>\n",
       "      <th>street</th>\n",
       "      <th>state</th>\n",
       "      <th>city</th>\n",
       "      <th>post_code</th>\n",
       "      <th>safety_flag</th>\n",
       "    </tr>\n",
       "  </thead>\n",
       "  <tbody>\n",
       "    <tr>\n",
       "      <td>2413</td>\n",
       "      <td>3 MCFARLAND CT</td>\n",
       "      <td>AL</td>\n",
       "      <td>Bridgeport</td>\n",
       "      <td>35740</td>\n",
       "      <td>True</td>\n",
       "    </tr>\n",
       "    <tr>\n",
       "      <td>2659</td>\n",
       "      <td>9042 Sturbridge Place</td>\n",
       "      <td>AL</td>\n",
       "      <td>Montgomery</td>\n",
       "      <td>36116</td>\n",
       "      <td>False</td>\n",
       "    </tr>\n",
       "    <tr>\n",
       "      <td>2181</td>\n",
       "      <td>1814 El Paso St</td>\n",
       "      <td>TX</td>\n",
       "      <td>Lewisville</td>\n",
       "      <td>75077</td>\n",
       "      <td>False</td>\n",
       "    </tr>\n",
       "    <tr>\n",
       "      <td>8686</td>\n",
       "      <td>1920 W 147th St</td>\n",
       "      <td>CA</td>\n",
       "      <td>Gardena</td>\n",
       "      <td>90249</td>\n",
       "      <td>False</td>\n",
       "    </tr>\n",
       "    <tr>\n",
       "      <td>227</td>\n",
       "      <td>1707 Towle St</td>\n",
       "      <td>NE</td>\n",
       "      <td>Falls City</td>\n",
       "      <td>68355-1952</td>\n",
       "      <td>False</td>\n",
       "    </tr>\n",
       "    <tr>\n",
       "      <td>7191</td>\n",
       "      <td>1200 Springdale Ln</td>\n",
       "      <td>IL</td>\n",
       "      <td>Elk Grove Village</td>\n",
       "      <td>60007-4654</td>\n",
       "      <td>False</td>\n",
       "    </tr>\n",
       "    <tr>\n",
       "      <td>5903</td>\n",
       "      <td>1342 Harpst St</td>\n",
       "      <td>MI</td>\n",
       "      <td>Ann Arbor</td>\n",
       "      <td>48104-6134</td>\n",
       "      <td>False</td>\n",
       "    </tr>\n",
       "    <tr>\n",
       "      <td>9239</td>\n",
       "      <td>7708 Mary Lou Way</td>\n",
       "      <td>CA</td>\n",
       "      <td>SACRAMENTO</td>\n",
       "      <td>95832</td>\n",
       "      <td>False</td>\n",
       "    </tr>\n",
       "    <tr>\n",
       "      <td>107</td>\n",
       "      <td>4343 E Princeton Ave</td>\n",
       "      <td>AZ</td>\n",
       "      <td>Gilbert</td>\n",
       "      <td>85234-7627</td>\n",
       "      <td>False</td>\n",
       "    </tr>\n",
       "    <tr>\n",
       "      <td>2601</td>\n",
       "      <td>570 South muriel drive</td>\n",
       "      <td>CA</td>\n",
       "      <td>Barstow</td>\n",
       "      <td>92311</td>\n",
       "      <td>False</td>\n",
       "    </tr>\n",
       "  </tbody>\n",
       "</table>\n",
       "</div>"
      ],
      "text/plain": [
       "                      street state               city   post_code  safety_flag\n",
       "2413          3 MCFARLAND CT    AL         Bridgeport       35740         True\n",
       "2659   9042 Sturbridge Place    AL         Montgomery       36116        False\n",
       "2181         1814 El Paso St    TX         Lewisville       75077        False\n",
       "8686         1920 W 147th St    CA            Gardena       90249        False\n",
       "227            1707 Towle St    NE         Falls City  68355-1952        False\n",
       "7191      1200 Springdale Ln    IL  Elk Grove Village  60007-4654        False\n",
       "5903          1342 Harpst St    MI          Ann Arbor  48104-6134        False\n",
       "9239       7708 Mary Lou Way    CA         SACRAMENTO       95832        False\n",
       "107     4343 E Princeton Ave    AZ            Gilbert  85234-7627        False\n",
       "2601  570 South muriel drive    CA            Barstow       92311        False"
      ]
     },
     "execution_count": 21,
     "metadata": {},
     "output_type": "execute_result"
    }
   ],
   "source": [
    "df_post_code = df_post_code.dropna(subset=[\"post_code\"])\n",
    "\n",
    "# Take a look at our results\n",
    "df_post_code.sample(10)"
   ]
  },
  {
   "cell_type": "code",
   "execution_count": 22,
   "metadata": {},
   "outputs": [],
   "source": [
    "assert df_post_code.post_code.isnull().sum() == 0"
   ]
  },
  {
   "cell_type": "markdown",
   "metadata": {},
   "source": [
    "## 4.3 Add column \"country\" needed for enrichment "
   ]
  },
  {
   "cell_type": "code",
   "execution_count": 23,
   "metadata": {},
   "outputs": [],
   "source": [
    "df_w_country = df_post_code.copy()\n",
    "\n",
    "# After going through our dataset, we can know that there are only US states, \n",
    "# So we will use the constant'US'\n",
    "df_w_country[\"country\"] = \"US\""
   ]
  },
  {
   "cell_type": "markdown",
   "metadata": {},
   "source": [
    "## 4.4 Validate the cleaned data before enrichment"
   ]
  },
  {
   "cell_type": "code",
   "execution_count": 24,
   "metadata": {
    "scrolled": true
   },
   "outputs": [
    {
     "data": {
      "text/html": [
       "<table><tr><th>Column</th><th>Status</th><th>Description</th></tr><tr><th><a href=\"https://demyst.com/docs/demyst-live/types/#street\" target=\"_blank\">street</a></th><td style=\"background-color: lightgreen\"><nobr>All Valid</nobr></td><td style=\"text-align: left\">All values in this column are good to go.</td></tr><tr><th><a href=\"https://demyst.com/docs/demyst-live/types/#state\" target=\"_blank\">state</a></th><td style=\"background-color: lightgreen\"><nobr>All Valid</nobr></td><td style=\"text-align: left\">All values in this column are good to go.</td></tr><tr><th><a href=\"https://demyst.com/docs/demyst-live/types/#city\" target=\"_blank\">city</a></th><td style=\"background-color: lightgreen\"><nobr>All Valid</nobr></td><td style=\"text-align: left\">All values in this column are good to go.</td></tr><tr><th><a href=\"https://demyst.com/docs/demyst-live/types/#post_code\" target=\"_blank\">post_code</a></th><td style=\"background-color: lightgreen\"><nobr>All Valid</nobr></td><td style=\"text-align: left\">All values in this column are good to go.</td></tr><tr><th>safety_flag</th><td style=\"background-color: lightpink\"><nobr>Unrecognized Column Name</nobr></td><td style=\"text-align: left\">This column name is not supported. <a href=\"https://demyst.com/docs/demyst-live/types/\" target=\"_blank\">Click here for a list of all supported column names.</a></td></tr><tr><th><a href=\"https://demyst.com/docs/demyst-live/types/#country\" target=\"_blank\">country</a></th><td style=\"background-color: lightgreen\"><nobr>All Valid</nobr></td><td style=\"text-align: left\">All values in this column are good to go.</td></tr></table>"
      ],
      "text/plain": [
       "<demyst.analytics.analytics.Validation at 0x13fc76c90>"
      ]
     },
     "execution_count": 24,
     "metadata": {},
     "output_type": "execute_result"
    }
   ],
   "source": [
    "df_cleaned = df_w_country.copy()\n",
    "analytics.validate(df_cleaned)"
   ]
  },
  {
   "cell_type": "markdown",
   "metadata": {},
   "source": [
    "## 5. Save the cleaned data to file"
   ]
  },
  {
   "cell_type": "code",
   "execution_count": 25,
   "metadata": {},
   "outputs": [],
   "source": [
    "df_cleaned.to_csv(\"../data/cleaned_data.csv\",index=False)"
   ]
  },
  {
   "cell_type": "code",
   "execution_count": 26,
   "metadata": {},
   "outputs": [],
   "source": [
    "df_saved = pd.read_csv(\"../data/cleaned_data.csv\")"
   ]
  },
  {
   "cell_type": "code",
   "execution_count": 27,
   "metadata": {},
   "outputs": [],
   "source": [
    "assert df_cleaned.shape[0] == df_saved.shape[0]"
   ]
  },
  {
   "cell_type": "code",
   "execution_count": 28,
   "metadata": {},
   "outputs": [],
   "source": [
    "assert df_cleaned.shape[1] == df_saved.shape[1]"
   ]
  }
 ],
 "metadata": {
  "kernelspec": {
   "display_name": "Python 3",
   "language": "python",
   "name": "python3"
  },
  "language_info": {
   "codemirror_mode": {
    "name": "ipython",
    "version": 3
   },
   "file_extension": ".py",
   "mimetype": "text/x-python",
   "name": "python",
   "nbconvert_exporter": "python",
   "pygments_lexer": "ipython3",
   "version": "3.7.4"
  }
 },
 "nbformat": 4,
 "nbformat_minor": 2
}
