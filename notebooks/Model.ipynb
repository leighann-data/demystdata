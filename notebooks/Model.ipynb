{
 "cells": [
  {
   "cell_type": "markdown",
   "metadata": {},
   "source": [
    "# Sub-task 3\n",
    "Use the enriched file to predict the target variable (safety_flag). "
   ]
  },
  {
   "cell_type": "markdown",
   "metadata": {},
   "source": [
    "## Frame the Problem"
   ]
  },
  {
   "cell_type": "markdown",
   "metadata": {},
   "source": [
    "After analysing the problem, we can know that it is a supervised classification task."
   ]
  },
  {
   "cell_type": "code",
   "execution_count": 1,
   "metadata": {},
   "outputs": [],
   "source": [
    "import pandas as pd\n",
    "import numpy as np\n",
    "%matplotlib inline \n",
    "import matplotlib.pyplot as plt \n",
    "from sklearn.pipeline import Pipeline\n",
    "from sklearn.preprocessing import StandardScaler\n",
    "from sklearn.compose import ColumnTransformer \n",
    "from sklearn.model_selection import train_test_split\n",
    "from sklearn.linear_model import LogisticRegression\n",
    "from sklearn.linear_model import SGDClassifier\n",
    "from sklearn.base import BaseEstimator\n",
    "from sklearn.model_selection import cross_val_score\n",
    "from sklearn.ensemble import RandomForestClassifier\n",
    "from sklearn.metrics import classification_report\n",
    "from sklearn import metrics"
   ]
  },
  {
   "cell_type": "markdown",
   "metadata": {},
   "source": [
    "## 1. Load the pre-processed data"
   ]
  },
  {
   "cell_type": "code",
   "execution_count": 2,
   "metadata": {},
   "outputs": [],
   "source": [
    "encriched_path_final = '../data/encriched_result_final.csv'\n",
    "data = pd.read_csv(encriched_path_final)"
   ]
  },
  {
   "cell_type": "code",
   "execution_count": 3,
   "metadata": {},
   "outputs": [
    {
     "data": {
      "text/html": [
       "<div>\n",
       "<style scoped>\n",
       "    .dataframe tbody tr th:only-of-type {\n",
       "        vertical-align: middle;\n",
       "    }\n",
       "\n",
       "    .dataframe tbody tr th {\n",
       "        vertical-align: top;\n",
       "    }\n",
       "\n",
       "    .dataframe thead th {\n",
       "        text-align: right;\n",
       "    }\n",
       "</style>\n",
       "<table border=\"1\" class=\"dataframe\">\n",
       "  <thead>\n",
       "    <tr style=\"text-align: right;\">\n",
       "      <th></th>\n",
       "      <th>street</th>\n",
       "      <th>state</th>\n",
       "      <th>city</th>\n",
       "      <th>post_code</th>\n",
       "      <th>attom_tax_assessor.areabuilding</th>\n",
       "      <th>attom_tax_assessor.arealotacres</th>\n",
       "      <th>attom_tax_assessor.cbsacode</th>\n",
       "      <th>attom_tax_assessor.cbsaname</th>\n",
       "      <th>attom_tax_assessor.contactownermailaddresscity</th>\n",
       "      <th>attom_tax_assessor.contactownermailaddresscrrt</th>\n",
       "      <th>...</th>\n",
       "      <th>attom_tax_assessor.taxfiscalyear</th>\n",
       "      <th>attom_tax_assessor.taxyearassessed</th>\n",
       "      <th>attom_avm.confidencescore</th>\n",
       "      <th>attom_avm.estimatedmaxvalue</th>\n",
       "      <th>attom_avm.estimatedminvalue</th>\n",
       "      <th>attom_avm.fsd</th>\n",
       "      <th>latitude</th>\n",
       "      <th>longitude</th>\n",
       "      <th>safety_flag</th>\n",
       "      <th>attom_tax_assessor.deckflag</th>\n",
       "    </tr>\n",
       "  </thead>\n",
       "  <tbody>\n",
       "    <tr>\n",
       "      <td>0</td>\n",
       "      <td>3160 otto dr</td>\n",
       "      <td>FL</td>\n",
       "      <td>Lakeland</td>\n",
       "      <td>33812-5237</td>\n",
       "      <td>1597.0</td>\n",
       "      <td>0.236800</td>\n",
       "      <td>29460.0</td>\n",
       "      <td>LAKELAND, FL METROPOLITAN STATISTICAL AREA</td>\n",
       "      <td>Lakeland</td>\n",
       "      <td>R048</td>\n",
       "      <td>...</td>\n",
       "      <td>2017.0</td>\n",
       "      <td>2018.0</td>\n",
       "      <td>89.0</td>\n",
       "      <td>237000.0</td>\n",
       "      <td>189000.0</td>\n",
       "      <td>11.0</td>\n",
       "      <td>27.961805</td>\n",
       "      <td>-81.904133</td>\n",
       "      <td>False</td>\n",
       "      <td>False</td>\n",
       "    </tr>\n",
       "    <tr>\n",
       "      <td>1</td>\n",
       "      <td>940 tulip dr</td>\n",
       "      <td>IN</td>\n",
       "      <td>Indianapolis</td>\n",
       "      <td>46227</td>\n",
       "      <td>1397.0</td>\n",
       "      <td>0.503007</td>\n",
       "      <td>26900.0</td>\n",
       "      <td>INDIANAPOLIS-CARMEL, IN METROPOLITAN STATISTIC...</td>\n",
       "      <td>Indianapolis</td>\n",
       "      <td>C010</td>\n",
       "      <td>...</td>\n",
       "      <td>2017.0</td>\n",
       "      <td>2018.0</td>\n",
       "      <td>48.0</td>\n",
       "      <td>158000.0</td>\n",
       "      <td>80000.0</td>\n",
       "      <td>32.0</td>\n",
       "      <td>39.667546</td>\n",
       "      <td>-86.142470</td>\n",
       "      <td>False</td>\n",
       "      <td>False</td>\n",
       "    </tr>\n",
       "    <tr>\n",
       "      <td>2</td>\n",
       "      <td>68 rocky top rd</td>\n",
       "      <td>VA</td>\n",
       "      <td>Troutville</td>\n",
       "      <td>24175-6054</td>\n",
       "      <td>1008.0</td>\n",
       "      <td>1.000000</td>\n",
       "      <td>40220.0</td>\n",
       "      <td>ROANOKE, VA METROPOLITAN STATISTICAL AREA</td>\n",
       "      <td>Troutville</td>\n",
       "      <td>R002</td>\n",
       "      <td>...</td>\n",
       "      <td>2018.0</td>\n",
       "      <td>2018.0</td>\n",
       "      <td>62.0</td>\n",
       "      <td>157000.0</td>\n",
       "      <td>98000.0</td>\n",
       "      <td>23.0</td>\n",
       "      <td>37.439224</td>\n",
       "      <td>-79.956768</td>\n",
       "      <td>False</td>\n",
       "      <td>True</td>\n",
       "    </tr>\n",
       "    <tr>\n",
       "      <td>3</td>\n",
       "      <td>3330 taylor blair rd</td>\n",
       "      <td>OH</td>\n",
       "      <td>West Jefferson</td>\n",
       "      <td>43162</td>\n",
       "      <td>0.0</td>\n",
       "      <td>1.500000</td>\n",
       "      <td>18140.0</td>\n",
       "      <td>COLUMBUS, OH METROPOLITAN STATISTICAL AREA</td>\n",
       "      <td>London</td>\n",
       "      <td>R006</td>\n",
       "      <td>...</td>\n",
       "      <td>2018.0</td>\n",
       "      <td>2018.0</td>\n",
       "      <td>50.0</td>\n",
       "      <td>129000.0</td>\n",
       "      <td>69000.0</td>\n",
       "      <td>30.0</td>\n",
       "      <td>39.987500</td>\n",
       "      <td>-83.336422</td>\n",
       "      <td>False</td>\n",
       "      <td>False</td>\n",
       "    </tr>\n",
       "    <tr>\n",
       "      <td>4</td>\n",
       "      <td>4254 eagle landing parkway</td>\n",
       "      <td>FL</td>\n",
       "      <td>Orange Park</td>\n",
       "      <td>32065</td>\n",
       "      <td>3472.0</td>\n",
       "      <td>0.241414</td>\n",
       "      <td>27260.0</td>\n",
       "      <td>JACKSONVILLE, FL METROPOLITAN STATISTICAL AREA</td>\n",
       "      <td>Orange Park</td>\n",
       "      <td>H009</td>\n",
       "      <td>...</td>\n",
       "      <td>2018.0</td>\n",
       "      <td>2018.0</td>\n",
       "      <td>92.0</td>\n",
       "      <td>462000.0</td>\n",
       "      <td>380000.0</td>\n",
       "      <td>9.0</td>\n",
       "      <td>30.155867</td>\n",
       "      <td>-81.865056</td>\n",
       "      <td>False</td>\n",
       "      <td>False</td>\n",
       "    </tr>\n",
       "  </tbody>\n",
       "</table>\n",
       "<p>5 rows × 57 columns</p>\n",
       "</div>"
      ],
      "text/plain": [
       "                       street state            city   post_code  \\\n",
       "0                3160 otto dr    FL        Lakeland  33812-5237   \n",
       "1                940 tulip dr    IN    Indianapolis       46227   \n",
       "2             68 rocky top rd    VA      Troutville  24175-6054   \n",
       "3        3330 taylor blair rd    OH  West Jefferson       43162   \n",
       "4  4254 eagle landing parkway    FL     Orange Park       32065   \n",
       "\n",
       "   attom_tax_assessor.areabuilding  attom_tax_assessor.arealotacres  \\\n",
       "0                           1597.0                         0.236800   \n",
       "1                           1397.0                         0.503007   \n",
       "2                           1008.0                         1.000000   \n",
       "3                              0.0                         1.500000   \n",
       "4                           3472.0                         0.241414   \n",
       "\n",
       "   attom_tax_assessor.cbsacode  \\\n",
       "0                      29460.0   \n",
       "1                      26900.0   \n",
       "2                      40220.0   \n",
       "3                      18140.0   \n",
       "4                      27260.0   \n",
       "\n",
       "                         attom_tax_assessor.cbsaname  \\\n",
       "0         LAKELAND, FL METROPOLITAN STATISTICAL AREA   \n",
       "1  INDIANAPOLIS-CARMEL, IN METROPOLITAN STATISTIC...   \n",
       "2          ROANOKE, VA METROPOLITAN STATISTICAL AREA   \n",
       "3         COLUMBUS, OH METROPOLITAN STATISTICAL AREA   \n",
       "4     JACKSONVILLE, FL METROPOLITAN STATISTICAL AREA   \n",
       "\n",
       "  attom_tax_assessor.contactownermailaddresscity  \\\n",
       "0                                       Lakeland   \n",
       "1                                   Indianapolis   \n",
       "2                                     Troutville   \n",
       "3                                         London   \n",
       "4                                    Orange Park   \n",
       "\n",
       "  attom_tax_assessor.contactownermailaddresscrrt  ...  \\\n",
       "0                                           R048  ...   \n",
       "1                                           C010  ...   \n",
       "2                                           R002  ...   \n",
       "3                                           R006  ...   \n",
       "4                                           H009  ...   \n",
       "\n",
       "  attom_tax_assessor.taxfiscalyear attom_tax_assessor.taxyearassessed  \\\n",
       "0                           2017.0                             2018.0   \n",
       "1                           2017.0                             2018.0   \n",
       "2                           2018.0                             2018.0   \n",
       "3                           2018.0                             2018.0   \n",
       "4                           2018.0                             2018.0   \n",
       "\n",
       "  attom_avm.confidencescore attom_avm.estimatedmaxvalue  \\\n",
       "0                      89.0                    237000.0   \n",
       "1                      48.0                    158000.0   \n",
       "2                      62.0                    157000.0   \n",
       "3                      50.0                    129000.0   \n",
       "4                      92.0                    462000.0   \n",
       "\n",
       "   attom_avm.estimatedminvalue  attom_avm.fsd   latitude  longitude  \\\n",
       "0                     189000.0           11.0  27.961805 -81.904133   \n",
       "1                      80000.0           32.0  39.667546 -86.142470   \n",
       "2                      98000.0           23.0  37.439224 -79.956768   \n",
       "3                      69000.0           30.0  39.987500 -83.336422   \n",
       "4                     380000.0            9.0  30.155867 -81.865056   \n",
       "\n",
       "   safety_flag attom_tax_assessor.deckflag  \n",
       "0        False                       False  \n",
       "1        False                       False  \n",
       "2        False                        True  \n",
       "3        False                       False  \n",
       "4        False                       False  \n",
       "\n",
       "[5 rows x 57 columns]"
      ]
     },
     "execution_count": 3,
     "metadata": {},
     "output_type": "execute_result"
    }
   ],
   "source": [
    "# Take a look at our data.\n",
    "# Get a better understanding of the data set\n",
    "data.head()"
   ]
  },
  {
   "cell_type": "markdown",
   "metadata": {},
   "source": [
    "## 2. Feature engineering"
   ]
  },
  {
   "cell_type": "markdown",
   "metadata": {},
   "source": [
    "### 2.1 Feature selection\n",
    "There are features of address infomation, and we could use longitude and latitude to represent them. "
   ]
  },
  {
   "cell_type": "code",
   "execution_count": 4,
   "metadata": {},
   "outputs": [],
   "source": [
    "# Delete the address columns\n",
    "data = data.drop(columns = ['attom_tax_assessor.contactownermailaddresscity',\n",
    "       'attom_tax_assessor.contactownermailaddresscrrt',\n",
    "       'attom_tax_assessor.contactownermailaddressfull',\n",
    "       'attom_tax_assessor.contactownermailaddresshousenumber',\n",
    "       'attom_tax_assessor.contactownermailaddressstate',\n",
    "       'attom_tax_assessor.contactownermailaddressstreetname',\n",
    "       'attom_tax_assessor.contactownermailingcounty','attom_tax_assessor.propertyaddresscity',\n",
    "       'attom_tax_assessor.propertyaddresscrrt',\n",
    "       'attom_tax_assessor.propertyaddressfull',\n",
    "       'attom_tax_assessor.propertyaddresshousenumber',\n",
    "       'attom_tax_assessor.propertyaddressstate',\n",
    "       'attom_tax_assessor.propertyaddressstreetname',\n",
    "       'attom_tax_assessor.propertyaddressstreetsuffix','attom_tax_assessor.situscounty',\n",
    "       'attom_tax_assessor.situsstatecode','attom_tax_assessor.contactownermailaddresszip',\n",
    "       'attom_tax_assessor.contactownermailaddresszip4', 'attom_tax_assessor.contactownermailingfips',\n",
    "       'attom_tax_assessor.propertyaddresszip4','attom_tax_assessor.situscounty',\n",
    "       'attom_tax_assessor.situsstatecode','attom_tax_assessor.situsstatecountyfips',\n",
    "       'attom_tax_assessor.cbsacode','attom_tax_assessor.cbsaname','attom_tax_assessor.msaname',\n",
    "       'attom_tax_assessor.parcelnumberraw','attom_tax_assessor.propertyjurisdictionname'])\n",
    "# Delete the owner name column\n",
    "data = data.drop(columns = ['attom_tax_assessor.partyowner1namefull'])"
   ]
  },
  {
   "cell_type": "markdown",
   "metadata": {},
   "source": [
    "### 2.2 Dealing with null values based on data type"
   ]
  },
  {
   "cell_type": "code",
   "execution_count": 5,
   "metadata": {},
   "outputs": [],
   "source": [
    "df_float = data.select_dtypes(include=['float64'])\n",
    "float_columns = df_float.columns\n",
    "data[float_columns] = df_float.interpolate()"
   ]
  },
  {
   "cell_type": "code",
   "execution_count": 6,
   "metadata": {},
   "outputs": [],
   "source": [
    "df_object = data.select_dtypes(include=['object'])\n",
    "object_columns = df_object.columns\n",
    "data[object_columns] = df_object.fillna('UNKNOWN')"
   ]
  },
  {
   "cell_type": "code",
   "execution_count": 7,
   "metadata": {},
   "outputs": [],
   "source": [
    "assert (data.isnull().sum().any() != 0) == False"
   ]
  },
  {
   "cell_type": "markdown",
   "metadata": {},
   "source": [
    "### 2.3 Dealing with data types"
   ]
  },
  {
   "cell_type": "code",
   "execution_count": 8,
   "metadata": {},
   "outputs": [
    {
     "data": {
      "text/plain": [
       "street                                             object\n",
       "state                                              object\n",
       "city                                               object\n",
       "post_code                                          object\n",
       "attom_tax_assessor.areabuilding                   float64\n",
       "attom_tax_assessor.arealotacres                   float64\n",
       "attom_tax_assessor.hvacheatingdetail              float64\n",
       "attom_tax_assessor.ownertypedescription1           object\n",
       "attom_tax_assessor.ownertypedescription2           object\n",
       "attom_tax_assessor.parkinggarage                  float64\n",
       "attom_tax_assessor.previousassessedvalue          float64\n",
       "attom_tax_assessor.propertylatitude               float64\n",
       "attom_tax_assessor.propertylongitude              float64\n",
       "attom_tax_assessor.propertyusegroup                object\n",
       "attom_tax_assessor.propertyusestandardized        float64\n",
       "attom_tax_assessor.roofmaterial                   float64\n",
       "attom_tax_assessor.storiescount                   float64\n",
       "attom_tax_assessor.taxassessedimprovementsperc    float64\n",
       "attom_tax_assessor.taxassessedvalueland           float64\n",
       "attom_tax_assessor.taxbilledamount                float64\n",
       "attom_tax_assessor.taxfiscalyear                  float64\n",
       "attom_tax_assessor.taxyearassessed                float64\n",
       "attom_avm.confidencescore                         float64\n",
       "attom_avm.estimatedmaxvalue                       float64\n",
       "attom_avm.estimatedminvalue                       float64\n",
       "attom_avm.fsd                                     float64\n",
       "latitude                                          float64\n",
       "longitude                                         float64\n",
       "safety_flag                                          bool\n",
       "attom_tax_assessor.deckflag                        object\n",
       "dtype: object"
      ]
     },
     "execution_count": 8,
     "metadata": {},
     "output_type": "execute_result"
    }
   ],
   "source": [
    "data.dtypes"
   ]
  },
  {
   "cell_type": "code",
   "execution_count": 9,
   "metadata": {},
   "outputs": [],
   "source": [
    "data['attom_tax_assessor.deckflag'] = data['attom_tax_assessor.deckflag'].astype('bool')\n",
    "\n",
    "data['street'] = data['street'].astype('category')\n",
    "data['state'] = data['state'].astype('category')\n",
    "data['city'] = data['city'].astype('category')\n",
    "data['post_code'] = data['post_code'].astype('category')\n",
    "data['attom_tax_assessor.ownertypedescription1'] = data['attom_tax_assessor.ownertypedescription1'].astype('category')\n",
    "data['attom_tax_assessor.ownertypedescription2'] = data['attom_tax_assessor.ownertypedescription2'].astype('category')\n",
    "data['attom_tax_assessor.propertyusegroup'] = data['attom_tax_assessor.propertyusegroup'].astype('category')"
   ]
  },
  {
   "cell_type": "code",
   "execution_count": 10,
   "metadata": {},
   "outputs": [
    {
     "name": "stdout",
     "output_type": "stream",
     "text": [
      "<class 'pandas.core.frame.DataFrame'>\n",
      "RangeIndex: 7374 entries, 0 to 7373\n",
      "Data columns (total 30 columns):\n",
      "street                                            7374 non-null category\n",
      "state                                             7374 non-null category\n",
      "city                                              7374 non-null category\n",
      "post_code                                         7374 non-null category\n",
      "attom_tax_assessor.areabuilding                   7374 non-null float64\n",
      "attom_tax_assessor.arealotacres                   7374 non-null float64\n",
      "attom_tax_assessor.hvacheatingdetail              7374 non-null float64\n",
      "attom_tax_assessor.ownertypedescription1          7374 non-null category\n",
      "attom_tax_assessor.ownertypedescription2          7374 non-null category\n",
      "attom_tax_assessor.parkinggarage                  7374 non-null float64\n",
      "attom_tax_assessor.previousassessedvalue          7374 non-null float64\n",
      "attom_tax_assessor.propertylatitude               7374 non-null float64\n",
      "attom_tax_assessor.propertylongitude              7374 non-null float64\n",
      "attom_tax_assessor.propertyusegroup               7374 non-null category\n",
      "attom_tax_assessor.propertyusestandardized        7374 non-null float64\n",
      "attom_tax_assessor.roofmaterial                   7374 non-null float64\n",
      "attom_tax_assessor.storiescount                   7374 non-null float64\n",
      "attom_tax_assessor.taxassessedimprovementsperc    7374 non-null float64\n",
      "attom_tax_assessor.taxassessedvalueland           7374 non-null float64\n",
      "attom_tax_assessor.taxbilledamount                7374 non-null float64\n",
      "attom_tax_assessor.taxfiscalyear                  7374 non-null float64\n",
      "attom_tax_assessor.taxyearassessed                7374 non-null float64\n",
      "attom_avm.confidencescore                         7374 non-null float64\n",
      "attom_avm.estimatedmaxvalue                       7374 non-null float64\n",
      "attom_avm.estimatedminvalue                       7374 non-null float64\n",
      "attom_avm.fsd                                     7374 non-null float64\n",
      "latitude                                          7374 non-null float64\n",
      "longitude                                         7374 non-null float64\n",
      "safety_flag                                       7374 non-null bool\n",
      "attom_tax_assessor.deckflag                       7374 non-null bool\n",
      "dtypes: bool(2), category(7), float64(21)\n",
      "memory usage: 2.1 MB\n"
     ]
    }
   ],
   "source": [
    "data.info()"
   ]
  },
  {
   "cell_type": "code",
   "execution_count": 11,
   "metadata": {},
   "outputs": [
    {
     "data": {
      "text/html": [
       "<div>\n",
       "<style scoped>\n",
       "    .dataframe tbody tr th:only-of-type {\n",
       "        vertical-align: middle;\n",
       "    }\n",
       "\n",
       "    .dataframe tbody tr th {\n",
       "        vertical-align: top;\n",
       "    }\n",
       "\n",
       "    .dataframe thead th {\n",
       "        text-align: right;\n",
       "    }\n",
       "</style>\n",
       "<table border=\"1\" class=\"dataframe\">\n",
       "  <thead>\n",
       "    <tr style=\"text-align: right;\">\n",
       "      <th></th>\n",
       "      <th>attom_tax_assessor.areabuilding</th>\n",
       "      <th>attom_tax_assessor.arealotacres</th>\n",
       "      <th>attom_tax_assessor.hvacheatingdetail</th>\n",
       "      <th>attom_tax_assessor.parkinggarage</th>\n",
       "      <th>attom_tax_assessor.previousassessedvalue</th>\n",
       "      <th>attom_tax_assessor.propertylatitude</th>\n",
       "      <th>attom_tax_assessor.propertylongitude</th>\n",
       "      <th>attom_tax_assessor.propertyusestandardized</th>\n",
       "      <th>attom_tax_assessor.roofmaterial</th>\n",
       "      <th>attom_tax_assessor.storiescount</th>\n",
       "      <th>...</th>\n",
       "      <th>attom_tax_assessor.taxassessedvalueland</th>\n",
       "      <th>attom_tax_assessor.taxbilledamount</th>\n",
       "      <th>attom_tax_assessor.taxfiscalyear</th>\n",
       "      <th>attom_tax_assessor.taxyearassessed</th>\n",
       "      <th>attom_avm.confidencescore</th>\n",
       "      <th>attom_avm.estimatedmaxvalue</th>\n",
       "      <th>attom_avm.estimatedminvalue</th>\n",
       "      <th>attom_avm.fsd</th>\n",
       "      <th>latitude</th>\n",
       "      <th>longitude</th>\n",
       "    </tr>\n",
       "  </thead>\n",
       "  <tbody>\n",
       "    <tr>\n",
       "      <td>count</td>\n",
       "      <td>7.374000e+03</td>\n",
       "      <td>7374.000000</td>\n",
       "      <td>7374.000000</td>\n",
       "      <td>7374.000000</td>\n",
       "      <td>7.374000e+03</td>\n",
       "      <td>7374.000000</td>\n",
       "      <td>7374.000000</td>\n",
       "      <td>7374.000000</td>\n",
       "      <td>7374.000000</td>\n",
       "      <td>7374.000000</td>\n",
       "      <td>...</td>\n",
       "      <td>7.374000e+03</td>\n",
       "      <td>7.374000e+03</td>\n",
       "      <td>7374.000000</td>\n",
       "      <td>7374.000000</td>\n",
       "      <td>7374.000000</td>\n",
       "      <td>7.374000e+03</td>\n",
       "      <td>7.374000e+03</td>\n",
       "      <td>7374.000000</td>\n",
       "      <td>7374.000000</td>\n",
       "      <td>7374.000000</td>\n",
       "    </tr>\n",
       "    <tr>\n",
       "      <td>mean</td>\n",
       "      <td>9.765338e+03</td>\n",
       "      <td>2.989123</td>\n",
       "      <td>152.329672</td>\n",
       "      <td>248.759561</td>\n",
       "      <td>1.061608e+06</td>\n",
       "      <td>36.973613</td>\n",
       "      <td>-91.705648</td>\n",
       "      <td>381.302482</td>\n",
       "      <td>104.746474</td>\n",
       "      <td>1.337809</td>\n",
       "      <td>...</td>\n",
       "      <td>2.443524e+05</td>\n",
       "      <td>2.297545e+04</td>\n",
       "      <td>2017.761052</td>\n",
       "      <td>2017.882154</td>\n",
       "      <td>70.508679</td>\n",
       "      <td>4.405712e+05</td>\n",
       "      <td>2.796904e+05</td>\n",
       "      <td>20.434974</td>\n",
       "      <td>37.264295</td>\n",
       "      <td>-92.214632</td>\n",
       "    </tr>\n",
       "    <tr>\n",
       "      <td>std</td>\n",
       "      <td>6.612414e+04</td>\n",
       "      <td>124.932704</td>\n",
       "      <td>55.446651</td>\n",
       "      <td>414.971980</td>\n",
       "      <td>7.053857e+06</td>\n",
       "      <td>5.110553</td>\n",
       "      <td>16.199307</td>\n",
       "      <td>11.928119</td>\n",
       "      <td>5.288057</td>\n",
       "      <td>1.969481</td>\n",
       "      <td>...</td>\n",
       "      <td>1.696504e+06</td>\n",
       "      <td>1.363562e+05</td>\n",
       "      <td>0.820431</td>\n",
       "      <td>0.725841</td>\n",
       "      <td>16.511167</td>\n",
       "      <td>4.423695e+05</td>\n",
       "      <td>2.331179e+05</td>\n",
       "      <td>11.280170</td>\n",
       "      <td>5.003362</td>\n",
       "      <td>17.608610</td>\n",
       "    </tr>\n",
       "    <tr>\n",
       "      <td>min</td>\n",
       "      <td>0.000000e+00</td>\n",
       "      <td>0.000000</td>\n",
       "      <td>101.000000</td>\n",
       "      <td>0.000000</td>\n",
       "      <td>0.000000e+00</td>\n",
       "      <td>19.708851</td>\n",
       "      <td>-159.509777</td>\n",
       "      <td>181.000000</td>\n",
       "      <td>101.000000</td>\n",
       "      <td>0.000000</td>\n",
       "      <td>...</td>\n",
       "      <td>0.000000e+00</td>\n",
       "      <td>0.000000e+00</td>\n",
       "      <td>2009.000000</td>\n",
       "      <td>2009.000000</td>\n",
       "      <td>17.000000</td>\n",
       "      <td>3.300000e+04</td>\n",
       "      <td>1.386000e+04</td>\n",
       "      <td>7.000000</td>\n",
       "      <td>19.610934</td>\n",
       "      <td>-159.509741</td>\n",
       "    </tr>\n",
       "    <tr>\n",
       "      <td>25%</td>\n",
       "      <td>1.192250e+03</td>\n",
       "      <td>0.118716</td>\n",
       "      <td>105.000000</td>\n",
       "      <td>1.000000</td>\n",
       "      <td>4.831250e+04</td>\n",
       "      <td>33.531653</td>\n",
       "      <td>-98.671674</td>\n",
       "      <td>385.000000</td>\n",
       "      <td>101.000000</td>\n",
       "      <td>1.000000</td>\n",
       "      <td>...</td>\n",
       "      <td>3.230000e+03</td>\n",
       "      <td>1.670500e+03</td>\n",
       "      <td>2017.500000</td>\n",
       "      <td>2018.000000</td>\n",
       "      <td>60.000000</td>\n",
       "      <td>2.070000e+05</td>\n",
       "      <td>1.380000e+05</td>\n",
       "      <td>13.000000</td>\n",
       "      <td>33.743235</td>\n",
       "      <td>-108.515314</td>\n",
       "    </tr>\n",
       "    <tr>\n",
       "      <td>50%</td>\n",
       "      <td>1.650000e+03</td>\n",
       "      <td>0.200000</td>\n",
       "      <td>110.000000</td>\n",
       "      <td>11.000000</td>\n",
       "      <td>1.344700e+05</td>\n",
       "      <td>37.757221</td>\n",
       "      <td>-86.521924</td>\n",
       "      <td>385.000000</td>\n",
       "      <td>103.000000</td>\n",
       "      <td>1.000000</td>\n",
       "      <td>...</td>\n",
       "      <td>2.100000e+04</td>\n",
       "      <td>3.263665e+03</td>\n",
       "      <td>2018.000000</td>\n",
       "      <td>2018.000000</td>\n",
       "      <td>73.000000</td>\n",
       "      <td>3.150000e+05</td>\n",
       "      <td>2.200000e+05</td>\n",
       "      <td>17.000000</td>\n",
       "      <td>38.379530</td>\n",
       "      <td>-86.004127</td>\n",
       "    </tr>\n",
       "    <tr>\n",
       "      <td>75%</td>\n",
       "      <td>2.335750e+03</td>\n",
       "      <td>0.450000</td>\n",
       "      <td>219.000000</td>\n",
       "      <td>500.000000</td>\n",
       "      <td>2.697128e+05</td>\n",
       "      <td>40.856163</td>\n",
       "      <td>-79.926782</td>\n",
       "      <td>385.000000</td>\n",
       "      <td>108.000000</td>\n",
       "      <td>2.000000</td>\n",
       "      <td>...</td>\n",
       "      <td>7.253225e+04</td>\n",
       "      <td>5.895403e+03</td>\n",
       "      <td>2018.000000</td>\n",
       "      <td>2018.000000</td>\n",
       "      <td>84.000000</td>\n",
       "      <td>5.050000e+05</td>\n",
       "      <td>3.490000e+05</td>\n",
       "      <td>24.000000</td>\n",
       "      <td>40.855135</td>\n",
       "      <td>-77.107443</td>\n",
       "    </tr>\n",
       "    <tr>\n",
       "      <td>max</td>\n",
       "      <td>3.911254e+06</td>\n",
       "      <td>10500.000000</td>\n",
       "      <td>236.000000</td>\n",
       "      <td>999.000000</td>\n",
       "      <td>2.147057e+08</td>\n",
       "      <td>61.534983</td>\n",
       "      <td>-68.684721</td>\n",
       "      <td>401.000000</td>\n",
       "      <td>130.000000</td>\n",
       "      <td>73.000000</td>\n",
       "      <td>...</td>\n",
       "      <td>6.654476e+07</td>\n",
       "      <td>3.559554e+06</td>\n",
       "      <td>2019.000000</td>\n",
       "      <td>2020.000000</td>\n",
       "      <td>96.000000</td>\n",
       "      <td>4.536000e+06</td>\n",
       "      <td>2.557000e+06</td>\n",
       "      <td>110.000000</td>\n",
       "      <td>61.230969</td>\n",
       "      <td>-68.682183</td>\n",
       "    </tr>\n",
       "  </tbody>\n",
       "</table>\n",
       "<p>8 rows × 21 columns</p>\n",
       "</div>"
      ],
      "text/plain": [
       "       attom_tax_assessor.areabuilding  attom_tax_assessor.arealotacres  \\\n",
       "count                     7.374000e+03                      7374.000000   \n",
       "mean                      9.765338e+03                         2.989123   \n",
       "std                       6.612414e+04                       124.932704   \n",
       "min                       0.000000e+00                         0.000000   \n",
       "25%                       1.192250e+03                         0.118716   \n",
       "50%                       1.650000e+03                         0.200000   \n",
       "75%                       2.335750e+03                         0.450000   \n",
       "max                       3.911254e+06                     10500.000000   \n",
       "\n",
       "       attom_tax_assessor.hvacheatingdetail  attom_tax_assessor.parkinggarage  \\\n",
       "count                           7374.000000                       7374.000000   \n",
       "mean                             152.329672                        248.759561   \n",
       "std                               55.446651                        414.971980   \n",
       "min                              101.000000                          0.000000   \n",
       "25%                              105.000000                          1.000000   \n",
       "50%                              110.000000                         11.000000   \n",
       "75%                              219.000000                        500.000000   \n",
       "max                              236.000000                        999.000000   \n",
       "\n",
       "       attom_tax_assessor.previousassessedvalue  \\\n",
       "count                              7.374000e+03   \n",
       "mean                               1.061608e+06   \n",
       "std                                7.053857e+06   \n",
       "min                                0.000000e+00   \n",
       "25%                                4.831250e+04   \n",
       "50%                                1.344700e+05   \n",
       "75%                                2.697128e+05   \n",
       "max                                2.147057e+08   \n",
       "\n",
       "       attom_tax_assessor.propertylatitude  \\\n",
       "count                          7374.000000   \n",
       "mean                             36.973613   \n",
       "std                               5.110553   \n",
       "min                              19.708851   \n",
       "25%                              33.531653   \n",
       "50%                              37.757221   \n",
       "75%                              40.856163   \n",
       "max                              61.534983   \n",
       "\n",
       "       attom_tax_assessor.propertylongitude  \\\n",
       "count                           7374.000000   \n",
       "mean                             -91.705648   \n",
       "std                               16.199307   \n",
       "min                             -159.509777   \n",
       "25%                              -98.671674   \n",
       "50%                              -86.521924   \n",
       "75%                              -79.926782   \n",
       "max                              -68.684721   \n",
       "\n",
       "       attom_tax_assessor.propertyusestandardized  \\\n",
       "count                                 7374.000000   \n",
       "mean                                   381.302482   \n",
       "std                                     11.928119   \n",
       "min                                    181.000000   \n",
       "25%                                    385.000000   \n",
       "50%                                    385.000000   \n",
       "75%                                    385.000000   \n",
       "max                                    401.000000   \n",
       "\n",
       "       attom_tax_assessor.roofmaterial  attom_tax_assessor.storiescount  ...  \\\n",
       "count                      7374.000000                      7374.000000  ...   \n",
       "mean                        104.746474                         1.337809  ...   \n",
       "std                           5.288057                         1.969481  ...   \n",
       "min                         101.000000                         0.000000  ...   \n",
       "25%                         101.000000                         1.000000  ...   \n",
       "50%                         103.000000                         1.000000  ...   \n",
       "75%                         108.000000                         2.000000  ...   \n",
       "max                         130.000000                        73.000000  ...   \n",
       "\n",
       "       attom_tax_assessor.taxassessedvalueland  \\\n",
       "count                             7.374000e+03   \n",
       "mean                              2.443524e+05   \n",
       "std                               1.696504e+06   \n",
       "min                               0.000000e+00   \n",
       "25%                               3.230000e+03   \n",
       "50%                               2.100000e+04   \n",
       "75%                               7.253225e+04   \n",
       "max                               6.654476e+07   \n",
       "\n",
       "       attom_tax_assessor.taxbilledamount  attom_tax_assessor.taxfiscalyear  \\\n",
       "count                        7.374000e+03                       7374.000000   \n",
       "mean                         2.297545e+04                       2017.761052   \n",
       "std                          1.363562e+05                          0.820431   \n",
       "min                          0.000000e+00                       2009.000000   \n",
       "25%                          1.670500e+03                       2017.500000   \n",
       "50%                          3.263665e+03                       2018.000000   \n",
       "75%                          5.895403e+03                       2018.000000   \n",
       "max                          3.559554e+06                       2019.000000   \n",
       "\n",
       "       attom_tax_assessor.taxyearassessed  attom_avm.confidencescore  \\\n",
       "count                         7374.000000                7374.000000   \n",
       "mean                          2017.882154                  70.508679   \n",
       "std                              0.725841                  16.511167   \n",
       "min                           2009.000000                  17.000000   \n",
       "25%                           2018.000000                  60.000000   \n",
       "50%                           2018.000000                  73.000000   \n",
       "75%                           2018.000000                  84.000000   \n",
       "max                           2020.000000                  96.000000   \n",
       "\n",
       "       attom_avm.estimatedmaxvalue  attom_avm.estimatedminvalue  \\\n",
       "count                 7.374000e+03                 7.374000e+03   \n",
       "mean                  4.405712e+05                 2.796904e+05   \n",
       "std                   4.423695e+05                 2.331179e+05   \n",
       "min                   3.300000e+04                 1.386000e+04   \n",
       "25%                   2.070000e+05                 1.380000e+05   \n",
       "50%                   3.150000e+05                 2.200000e+05   \n",
       "75%                   5.050000e+05                 3.490000e+05   \n",
       "max                   4.536000e+06                 2.557000e+06   \n",
       "\n",
       "       attom_avm.fsd     latitude    longitude  \n",
       "count    7374.000000  7374.000000  7374.000000  \n",
       "mean       20.434974    37.264295   -92.214632  \n",
       "std        11.280170     5.003362    17.608610  \n",
       "min         7.000000    19.610934  -159.509741  \n",
       "25%        13.000000    33.743235  -108.515314  \n",
       "50%        17.000000    38.379530   -86.004127  \n",
       "75%        24.000000    40.855135   -77.107443  \n",
       "max       110.000000    61.230969   -68.682183  \n",
       "\n",
       "[8 rows x 21 columns]"
      ]
     },
     "execution_count": 11,
     "metadata": {},
     "output_type": "execute_result"
    }
   ],
   "source": [
    "data.describe()"
   ]
  },
  {
   "cell_type": "code",
   "execution_count": 12,
   "metadata": {},
   "outputs": [
    {
     "data": {
      "image/png": "[encoded data removed]",
      "text/plain": [
       "<Figure size 432x288 with 1 Axes>"
      ]
     },
     "metadata": {
      "needs_background": "light"
     },
     "output_type": "display_data"
    }
   ],
   "source": [
    "data.plot(kind=\"scatter\", x=\"longitude\", y=\"latitude\", alpha=0.1)\n",
    "plt.show()"
   ]
  },
  {
   "cell_type": "markdown",
   "metadata": {},
   "source": [
    "## 3. Create a Test Set"
   ]
  },
  {
   "cell_type": "markdown",
   "metadata": {},
   "source": [
    "### 2.4 Feature Scaling"
   ]
  },
  {
   "cell_type": "code",
   "execution_count": 13,
   "metadata": {},
   "outputs": [],
   "source": [
    "# The label is safety_flag.\n",
    "label = data['safety_flag'].tolist()\n",
    "data = data.drop(columns = ['safety_flag'])"
   ]
  },
  {
   "cell_type": "code",
   "execution_count": 14,
   "metadata": {},
   "outputs": [],
   "source": [
    "data_train, data_test, label_train, label_test = train_test_split(data, label, test_size = 0.2, random_state=42)"
   ]
  },
  {
   "cell_type": "code",
   "execution_count": 15,
   "metadata": {},
   "outputs": [
    {
     "data": {
      "image/png": "[encoded data removed]",
      "text/plain": [
       "<Figure size 1440x1080 with 25 Axes>"
      ]
     },
     "metadata": {
      "needs_background": "light"
     },
     "output_type": "display_data"
    }
   ],
   "source": [
    "data_train.select_dtypes(include=['float64']).hist(bins=50, figsize=(20,15)) \n",
    "plt.show()"
   ]
  },
  {
   "cell_type": "code",
   "execution_count": 16,
   "metadata": {},
   "outputs": [],
   "source": [
    "# Standardization\n",
    "\n",
    "num_pipeline = Pipeline([\n",
    "('std_scaler', StandardScaler()),\n",
    "])\n",
    "\n",
    "num_attribs = data_train.select_dtypes(include=['float64']).columns\n",
    "full_pipeline = ColumnTransformer([\n",
    "(\"num\", num_pipeline, num_attribs),\n",
    "])\n",
    "data_prepared = full_pipeline.fit_transform(data_train)"
   ]
  },
  {
   "cell_type": "markdown",
   "metadata": {},
   "source": [
    "## 4. Select and Train a Model"
   ]
  },
  {
   "cell_type": "code",
   "execution_count": 17,
   "metadata": {},
   "outputs": [],
   "source": [
    "test_prepared = full_pipeline.transform(data_test)"
   ]
  },
  {
   "cell_type": "markdown",
   "metadata": {},
   "source": [
    "### 4.1 SGDClassifier"
   ]
  },
  {
   "cell_type": "code",
   "execution_count": 18,
   "metadata": {},
   "outputs": [
    {
     "data": {
      "text/plain": [
       "SGDClassifier(alpha=0.0001, average=False, class_weight=None,\n",
       "              early_stopping=False, epsilon=0.1, eta0=0.0, fit_intercept=True,\n",
       "              l1_ratio=0.15, learning_rate='optimal', loss='hinge',\n",
       "              max_iter=1000, n_iter_no_change=5, n_jobs=None, penalty='l2',\n",
       "              power_t=0.5, random_state=42, shuffle=True, tol=0.001,\n",
       "              validation_fraction=0.1, verbose=0, warm_start=False)"
      ]
     },
     "execution_count": 18,
     "metadata": {},
     "output_type": "execute_result"
    }
   ],
   "source": [
    "sgd_clf = SGDClassifier(random_state=42)\n",
    "sgd_clf.fit(data_prepared,label_train)"
   ]
  },
  {
   "cell_type": "code",
   "execution_count": 19,
   "metadata": {},
   "outputs": [],
   "source": [
    "sgd_pre = sgd_clf.predict(test_prepared)"
   ]
  },
  {
   "cell_type": "code",
   "execution_count": 20,
   "metadata": {},
   "outputs": [
    {
     "data": {
      "text/plain": [
       "array([0.96187087, 0.96187087, 0.96234097])"
      ]
     },
     "execution_count": 20,
     "metadata": {},
     "output_type": "execute_result"
    }
   ],
   "source": [
    "cross_val_score(sgd_clf, data_prepared, label_train, cv=3, scoring=\"accuracy\")"
   ]
  },
  {
   "cell_type": "markdown",
   "metadata": {},
   "source": [
    "Above 96% accuracy (ratio of correct predictions) on all cross-validation folds"
   ]
  },
  {
   "cell_type": "code",
   "execution_count": 21,
   "metadata": {},
   "outputs": [],
   "source": [
    "# let’s look at a very dumb classifier that just classifies every single instance in the “not-save” class:\n",
    "class NeverSaveClassifier(BaseEstimator): \n",
    "    def fit(self, X, y=None):\n",
    "        pass\n",
    "    def predict(self, X):\n",
    "        return np.zeros((len(X), 1), dtype=bool)"
   ]
  },
  {
   "cell_type": "code",
   "execution_count": 22,
   "metadata": {},
   "outputs": [
    {
     "data": {
      "text/plain": [
       "array([0.96695475, 0.96134283, 0.95930824])"
      ]
     },
     "execution_count": 22,
     "metadata": {},
     "output_type": "execute_result"
    }
   ],
   "source": [
    "never_safe_clf = NeverSaveClassifier()\n",
    "cross_val_score(never_safe_clf, data_prepared, label_train, cv=3, scoring=\"accuracy\")"
   ]
  },
  {
   "cell_type": "markdown",
   "metadata": {},
   "source": [
    "it has over 95% accuracy"
   ]
  },
  {
   "cell_type": "code",
   "execution_count": 23,
   "metadata": {},
   "outputs": [
    {
     "name": "stdout",
     "output_type": "stream",
     "text": [
      "              precision    recall  f1-score   support\n",
      "\n",
      "       False       0.96      1.00      0.98      1411\n",
      "        True       0.00      0.00      0.00        64\n",
      "\n",
      "    accuracy                           0.96      1475\n",
      "   macro avg       0.48      0.50      0.49      1475\n",
      "weighted avg       0.92      0.96      0.94      1475\n",
      "\n",
      "Accuracy: 0.9566101694915254\n"
     ]
    },
    {
     "name": "stderr",
     "output_type": "stream",
     "text": [
      "/Users/ailsa/opt/anaconda3/lib/python3.7/site-packages/sklearn/metrics/classification.py:1437: UndefinedMetricWarning: Precision and F-score are ill-defined and being set to 0.0 in labels with no predicted samples.\n",
      "  'precision', 'predicted', average, warn_for)\n"
     ]
    }
   ],
   "source": [
    "print(classification_report(label_test,sgd_pre))\n",
    "print(\"Accuracy:\",metrics.accuracy_score(label_test, sgd_pre))"
   ]
  },
  {
   "cell_type": "markdown",
   "metadata": {},
   "source": [
    "### 4.2 LogisticRegression"
   ]
  },
  {
   "cell_type": "code",
   "execution_count": 24,
   "metadata": {},
   "outputs": [
    {
     "name": "stderr",
     "output_type": "stream",
     "text": [
      "/Users/ailsa/opt/anaconda3/lib/python3.7/site-packages/sklearn/linear_model/logistic.py:432: FutureWarning: Default solver will be changed to 'lbfgs' in 0.22. Specify a solver to silence this warning.\n",
      "  FutureWarning)\n"
     ]
    },
    {
     "data": {
      "text/plain": [
       "LogisticRegression(C=1.0, class_weight=None, dual=False, fit_intercept=True,\n",
       "                   intercept_scaling=1, l1_ratio=None, max_iter=100,\n",
       "                   multi_class='warn', n_jobs=None, penalty='l2',\n",
       "                   random_state=None, solver='warn', tol=0.0001, verbose=0,\n",
       "                   warm_start=False)"
      ]
     },
     "execution_count": 24,
     "metadata": {},
     "output_type": "execute_result"
    }
   ],
   "source": [
    "log_reg = LogisticRegression()\n",
    "log_reg.fit(data_prepared,label_train)"
   ]
  },
  {
   "cell_type": "markdown",
   "metadata": {},
   "source": [
    "Let’s try the logistics Regression model out on a few instances from the training set:"
   ]
  },
  {
   "cell_type": "code",
   "execution_count": 25,
   "metadata": {},
   "outputs": [
    {
     "name": "stdout",
     "output_type": "stream",
     "text": [
      "Predictions: [False False False False False]\n",
      "Labels: [False, False, False, False, False]\n"
     ]
    }
   ],
   "source": [
    "some_data = data_train[:5]\n",
    "some_labels = label_train[:5]\n",
    "some_data_prepared = full_pipeline.transform(some_data)\n",
    "print(\"Predictions:\", log_reg.predict(some_data_prepared))\n",
    "print(\"Labels:\", list(some_labels))"
   ]
  },
  {
   "cell_type": "code",
   "execution_count": 26,
   "metadata": {},
   "outputs": [],
   "source": [
    "log_pre = log_reg.predict(test_prepared)"
   ]
  },
  {
   "cell_type": "code",
   "execution_count": 27,
   "metadata": {},
   "outputs": [
    {
     "name": "stderr",
     "output_type": "stream",
     "text": [
      "/Users/ailsa/opt/anaconda3/lib/python3.7/site-packages/sklearn/linear_model/logistic.py:432: FutureWarning: Default solver will be changed to 'lbfgs' in 0.22. Specify a solver to silence this warning.\n",
      "  FutureWarning)\n",
      "/Users/ailsa/opt/anaconda3/lib/python3.7/site-packages/sklearn/linear_model/logistic.py:432: FutureWarning: Default solver will be changed to 'lbfgs' in 0.22. Specify a solver to silence this warning.\n",
      "  FutureWarning)\n",
      "/Users/ailsa/opt/anaconda3/lib/python3.7/site-packages/sklearn/linear_model/logistic.py:432: FutureWarning: Default solver will be changed to 'lbfgs' in 0.22. Specify a solver to silence this warning.\n",
      "  FutureWarning)\n"
     ]
    },
    {
     "data": {
      "text/plain": [
       "array([0.96237926, 0.96237926, 0.96284987])"
      ]
     },
     "execution_count": 27,
     "metadata": {},
     "output_type": "execute_result"
    }
   ],
   "source": [
    "cross_val_score(log_reg, data_prepared, label_train, cv=3, scoring=\"accuracy\")"
   ]
  },
  {
   "cell_type": "code",
   "execution_count": 28,
   "metadata": {},
   "outputs": [
    {
     "name": "stdout",
     "output_type": "stream",
     "text": [
      "              precision    recall  f1-score   support\n",
      "\n",
      "       False       0.96      1.00      0.98      1411\n",
      "        True       0.00      0.00      0.00        64\n",
      "\n",
      "    accuracy                           0.96      1475\n",
      "   macro avg       0.48      0.50      0.49      1475\n",
      "weighted avg       0.92      0.96      0.94      1475\n",
      "\n",
      "Accuracy: 0.9566101694915254\n"
     ]
    },
    {
     "name": "stderr",
     "output_type": "stream",
     "text": [
      "/Users/ailsa/opt/anaconda3/lib/python3.7/site-packages/sklearn/metrics/classification.py:1437: UndefinedMetricWarning: Precision and F-score are ill-defined and being set to 0.0 in labels with no predicted samples.\n",
      "  'precision', 'predicted', average, warn_for)\n"
     ]
    }
   ],
   "source": [
    "print(classification_report(label_test,log_pre))\n",
    "print(\"Accuracy:\",metrics.accuracy_score(label_test, log_pre))"
   ]
  },
  {
   "cell_type": "markdown",
   "metadata": {},
   "source": [
    "### 4.3 RandomForestClassifier"
   ]
  },
  {
   "cell_type": "code",
   "execution_count": 29,
   "metadata": {},
   "outputs": [
    {
     "name": "stderr",
     "output_type": "stream",
     "text": [
      "/Users/ailsa/opt/anaconda3/lib/python3.7/site-packages/sklearn/ensemble/forest.py:245: FutureWarning: The default value of n_estimators will change from 10 in version 0.20 to 100 in 0.22.\n",
      "  \"10 in version 0.20 to 100 in 0.22.\", FutureWarning)\n"
     ]
    },
    {
     "data": {
      "text/plain": [
       "RandomForestClassifier(bootstrap=True, class_weight=None, criterion='gini',\n",
       "                       max_depth=None, max_features='auto', max_leaf_nodes=None,\n",
       "                       min_impurity_decrease=0.0, min_impurity_split=None,\n",
       "                       min_samples_leaf=1, min_samples_split=2,\n",
       "                       min_weight_fraction_leaf=0.0, n_estimators=10,\n",
       "                       n_jobs=None, oob_score=False, random_state=42, verbose=0,\n",
       "                       warm_start=False)"
      ]
     },
     "execution_count": 29,
     "metadata": {},
     "output_type": "execute_result"
    }
   ],
   "source": [
    "forest_clf = RandomForestClassifier(random_state=42)\n",
    "forest_clf.fit(data_prepared,label_train)"
   ]
  },
  {
   "cell_type": "code",
   "execution_count": 30,
   "metadata": {},
   "outputs": [],
   "source": [
    "forest_pre = log_reg.predict(test_prepared)"
   ]
  },
  {
   "cell_type": "code",
   "execution_count": 31,
   "metadata": {},
   "outputs": [
    {
     "data": {
      "text/plain": [
       "array([0.96136248, 0.96237926, 0.96132316])"
      ]
     },
     "execution_count": 31,
     "metadata": {},
     "output_type": "execute_result"
    }
   ],
   "source": [
    "cross_val_score(forest_clf, data_prepared, label_train, cv=3, scoring=\"accuracy\")"
   ]
  },
  {
   "cell_type": "code",
   "execution_count": 32,
   "metadata": {},
   "outputs": [
    {
     "name": "stdout",
     "output_type": "stream",
     "text": [
      "              precision    recall  f1-score   support\n",
      "\n",
      "       False       0.96      1.00      0.98      1411\n",
      "        True       0.00      0.00      0.00        64\n",
      "\n",
      "    accuracy                           0.96      1475\n",
      "   macro avg       0.48      0.50      0.49      1475\n",
      "weighted avg       0.92      0.96      0.94      1475\n",
      "\n",
      "Accuracy: 0.9566101694915254\n"
     ]
    },
    {
     "name": "stderr",
     "output_type": "stream",
     "text": [
      "/Users/ailsa/opt/anaconda3/lib/python3.7/site-packages/sklearn/metrics/classification.py:1437: UndefinedMetricWarning: Precision and F-score are ill-defined and being set to 0.0 in labels with no predicted samples.\n",
      "  'precision', 'predicted', average, warn_for)\n"
     ]
    }
   ],
   "source": [
    "print(classification_report(label_test,forest_pre))\n",
    "print(\"Accuracy:\",metrics.accuracy_score(label_test, forest_pre))"
   ]
  },
  {
   "cell_type": "markdown",
   "metadata": {},
   "source": [
    "From the result, we can find that these three classifier have similar performance. The next step would be fine turn the models and do the evaluation on test set. Based on the evaluation, we can select the suitable model."
   ]
  }
 ],
 "metadata": {
  "kernelspec": {
   "display_name": "Python 3",
   "language": "python",
   "name": "python3"
  },
  "language_info": {
   "codemirror_mode": {
    "name": "ipython",
    "version": 3
   },
   "file_extension": ".py",
   "mimetype": "text/x-python",
   "name": "python",
   "nbconvert_exporter": "python",
   "pygments_lexer": "ipython3",
   "version": "3.7.4"
  }
 },
 "nbformat": 4,
 "nbformat_minor": 2
}
